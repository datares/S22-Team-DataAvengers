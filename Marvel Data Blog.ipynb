{
 "cells": [
  {
   "cell_type": "code",
   "execution_count": 1,
   "id": "2f3b7c09",
   "metadata": {},
   "outputs": [],
   "source": [
    "import numpy as np\n",
    "import pandas as pd\n",
    "import plotly.express as px\n",
    "import plotly.graph_objects as go\n"
   ]
  },
  {
   "cell_type": "code",
   "execution_count": 21,
   "id": "c203b8eb",
   "metadata": {},
   "outputs": [],
   "source": [
    "def make_graph(df,x,y,group):\n",
    "    #plots x and y scatter plot, groups by certain category, adds hover box with title and data\n",
    "    fig = px.scatter(df, y = y, x=x, color = group, symbol = group, hover_name=\"Title\", hover_data = [\"Year\"])\n",
    "    \n",
    "    #adds titles and axis labels\n",
    "    fig.update_layout(title='Budget and Worldwide Box Office Sales ($)', xaxis_title = str(x), yaxis_title = str(y))\n",
    "    \n",
    "    #adds line to visualize budget of each movie to see which other movies did better at the box office \n",
    "    fig.add_trace(go.Scatter(y=df[\"Worldwide\"], x=df[\"sc_bud\"] , name=\"Shang Chi Budget\",line_shape='hv', marker = dict(color = 'gold')))\n",
    "    \n",
    "    fig.add_trace(go.Scatter(y=df[\"Worldwide\"], x=df[\"bp_bud\"] , name=\"Black Panther Budget\",line_shape='hv', marker = dict(color = '#83b44b')))\n",
    "    \n",
    "    fig.add_trace(go.Scatter(y=df[\"Worldwide\"], x=df[\"bh_bud\"] , name=\"Big Hero Six Budget\",line_shape='hv', marker = dict(color = '#03a9f4')))\n",
    "    \n",
    "    #adds stars to highlight Shang Chi, Black Panther, and Big Hero 6 points\n",
    "    fig.add_trace(go.Scatter(x=shang_chi[\"Budget\"], y=[432243292],name=\"Shang Chi\", mode = 'markers',marker_symbol = 'star', marker = dict(color = '#FFA500', size = 15)))\n",
    "    \n",
    "    fig.add_trace(go.Scatter(x=black_panther[\"Budget\"], y=[1346913161], name=\"Black Panther\",mode = 'markers',marker_symbol = 'star', marker = dict(color='#378805', size = 15)))\n",
    "    \n",
    "    fig.add_trace(go.Scatter(x=big_hero[\"Budget\"], y=[657827828],name=\"Big Hero Six\", mode = 'markers',marker_symbol = 'star', marker = dict(color='blue', size = 15)))\n",
    "    \n",
    "    fig.show()\n",
    "    \n",
    "    "
   ]
  },
  {
   "cell_type": "code",
   "execution_count": 3,
   "id": "1155a490",
   "metadata": {},
   "outputs": [],
   "source": [
    "data = pd.read_csv(\"marvel_clean.csv\")"
   ]
  },
  {
   "cell_type": "code",
   "execution_count": 4,
   "id": "0c6318d1",
   "metadata": {},
   "outputs": [],
   "source": [
    "#adds new columns that truncates release dates to just year and adds columns budget for each diverse movie to create line\n",
    "data[\"Year\"] = data[\"ReleaseDateUS\"].str[0:4]\n",
    "data[\"sc_bud\"] = 150000000\n",
    "data[\"bp_bud\"] = 200000000\n",
    "data[\"bh_bud\"] = 165000000\n",
    "\n"
   ]
  },
  {
   "cell_type": "code",
   "execution_count": 5,
   "id": "7ae43bf0",
   "metadata": {},
   "outputs": [],
   "source": [
    "#data for each movie with diverse cast\n",
    "shang_chi = data[data[\"Title\"] == \"Shang-Chi and the Legend of the Ten Rings\"]\n",
    "black_panther = data[data[\"Title\"] == \"Black Panther\"]\n",
    "big_hero = data[data[\"Title\"] == \"Big Hero 6\"]\n"
   ]
  },
  {
   "cell_type": "code",
   "execution_count": 22,
   "id": "fdf115aa",
   "metadata": {},
   "outputs": [
    {
     "data": {
      "application/vnd.plotly.v1+json": {
       "config": {
        "plotlyServerURL": "https://plot.ly"
       },
       "data": [
        {
         "customdata": [
          [
           "1986"
          ]
         ],
         "hovertemplate": "<b>%{hovertext}</b><br><br>Title=Howard the Duck<br>Budget=%{x}<br>Worldwide=%{y}<br>Year=%{customdata[0]}<extra></extra>",
         "hovertext": [
          "Howard the Duck"
         ],
         "legendgroup": "Howard the Duck",
         "marker": {
          "color": "#636efa",
          "symbol": "circle"
         },
         "mode": "markers",
         "name": "Howard the Duck",
         "orientation": "v",
         "showlegend": true,
         "type": "scatter",
         "x": [
          37000000
         ],
         "xaxis": "x",
         "y": [
          37962774
         ],
         "yaxis": "y"
        },
        {
         "customdata": [
          [
           "1998"
          ]
         ],
         "hovertemplate": "<b>%{hovertext}</b><br><br>Title=Blade<br>Budget=%{x}<br>Worldwide=%{y}<br>Year=%{customdata[0]}<extra></extra>",
         "hovertext": [
          "Blade"
         ],
         "legendgroup": "Blade",
         "marker": {
          "color": "#EF553B",
          "symbol": "diamond"
         },
         "mode": "markers",
         "name": "Blade",
         "orientation": "v",
         "showlegend": true,
         "type": "scatter",
         "x": [
          45000000
         ],
         "xaxis": "x",
         "y": [
          131183530
         ],
         "yaxis": "y"
        },
        {
         "customdata": [
          [
           "2000"
          ]
         ],
         "hovertemplate": "<b>%{hovertext}</b><br><br>Title=X-Men<br>Budget=%{x}<br>Worldwide=%{y}<br>Year=%{customdata[0]}<extra></extra>",
         "hovertext": [
          "X-Men"
         ],
         "legendgroup": "X-Men",
         "marker": {
          "color": "#00cc96",
          "symbol": "square"
         },
         "mode": "markers",
         "name": "X-Men",
         "orientation": "v",
         "showlegend": true,
         "type": "scatter",
         "x": [
          75000000
         ],
         "xaxis": "x",
         "y": [
          296339527
         ],
         "yaxis": "y"
        },
        {
         "customdata": [
          [
           "2002"
          ]
         ],
         "hovertemplate": "<b>%{hovertext}</b><br><br>Title=Blade II<br>Budget=%{x}<br>Worldwide=%{y}<br>Year=%{customdata[0]}<extra></extra>",
         "hovertext": [
          "Blade II"
         ],
         "legendgroup": "Blade II",
         "marker": {
          "color": "#ab63fa",
          "symbol": "x"
         },
         "mode": "markers",
         "name": "Blade II",
         "orientation": "v",
         "showlegend": true,
         "type": "scatter",
         "x": [
          54000000
         ],
         "xaxis": "x",
         "y": [
          155010032
         ],
         "yaxis": "y"
        },
        {
         "customdata": [
          [
           "2002"
          ]
         ],
         "hovertemplate": "<b>%{hovertext}</b><br><br>Title=Spider-Man<br>Budget=%{x}<br>Worldwide=%{y}<br>Year=%{customdata[0]}<extra></extra>",
         "hovertext": [
          "Spider-Man"
         ],
         "legendgroup": "Spider-Man",
         "marker": {
          "color": "#FFA15A",
          "symbol": "cross"
         },
         "mode": "markers",
         "name": "Spider-Man",
         "orientation": "v",
         "showlegend": true,
         "type": "scatter",
         "x": [
          139000000
         ],
         "xaxis": "x",
         "y": [
          821708551
         ],
         "yaxis": "y"
        },
        {
         "customdata": [
          [
           "2003"
          ]
         ],
         "hovertemplate": "<b>%{hovertext}</b><br><br>Title=Daredevil<br>Budget=%{x}<br>Worldwide=%{y}<br>Year=%{customdata[0]}<extra></extra>",
         "hovertext": [
          "Daredevil"
         ],
         "legendgroup": "Daredevil",
         "marker": {
          "color": "#19d3f3",
          "symbol": "circle"
         },
         "mode": "markers",
         "name": "Daredevil",
         "orientation": "v",
         "showlegend": true,
         "type": "scatter",
         "x": [
          78000000
         ],
         "xaxis": "x",
         "y": [
          179179718
         ],
         "yaxis": "y"
        },
        {
         "customdata": [
          [
           "2003"
          ]
         ],
         "hovertemplate": "<b>%{hovertext}</b><br><br>Title=X2<br>Budget=%{x}<br>Worldwide=%{y}<br>Year=%{customdata[0]}<extra></extra>",
         "hovertext": [
          "X2"
         ],
         "legendgroup": "X2",
         "marker": {
          "color": "#FF6692",
          "symbol": "diamond"
         },
         "mode": "markers",
         "name": "X2",
         "orientation": "v",
         "showlegend": true,
         "type": "scatter",
         "x": [
          110000000
         ],
         "xaxis": "x",
         "y": [
          407711549
         ],
         "yaxis": "y"
        },
        {
         "customdata": [
          [
           "2003"
          ]
         ],
         "hovertemplate": "<b>%{hovertext}</b><br><br>Title=Hulk<br>Budget=%{x}<br>Worldwide=%{y}<br>Year=%{customdata[0]}<extra></extra>",
         "hovertext": [
          "Hulk"
         ],
         "legendgroup": "Hulk",
         "marker": {
          "color": "#B6E880",
          "symbol": "square"
         },
         "mode": "markers",
         "name": "Hulk",
         "orientation": "v",
         "showlegend": true,
         "type": "scatter",
         "x": [
          137000000
         ],
         "xaxis": "x",
         "y": [
          245360480
         ],
         "yaxis": "y"
        },
        {
         "customdata": [
          [
           "2004"
          ]
         ],
         "hovertemplate": "<b>%{hovertext}</b><br><br>Title=The Punisher<br>Budget=%{x}<br>Worldwide=%{y}<br>Year=%{customdata[0]}<extra></extra>",
         "hovertext": [
          "The Punisher"
         ],
         "legendgroup": "The Punisher",
         "marker": {
          "color": "#FF97FF",
          "symbol": "x"
         },
         "mode": "markers",
         "name": "The Punisher",
         "orientation": "v",
         "showlegend": true,
         "type": "scatter",
         "x": [
          33000000
         ],
         "xaxis": "x",
         "y": [
          54700105
         ],
         "yaxis": "y"
        },
        {
         "customdata": [
          [
           "2004"
          ]
         ],
         "hovertemplate": "<b>%{hovertext}</b><br><br>Title=Spider-Man 2<br>Budget=%{x}<br>Worldwide=%{y}<br>Year=%{customdata[0]}<extra></extra>",
         "hovertext": [
          "Spider-Man 2"
         ],
         "legendgroup": "Spider-Man 2",
         "marker": {
          "color": "#FECB52",
          "symbol": "cross"
         },
         "mode": "markers",
         "name": "Spider-Man 2",
         "orientation": "v",
         "showlegend": true,
         "type": "scatter",
         "x": [
          200000000
         ],
         "xaxis": "x",
         "y": [
          788976453
         ],
         "yaxis": "y"
        },
        {
         "customdata": [
          [
           "2004"
          ]
         ],
         "hovertemplate": "<b>%{hovertext}</b><br><br>Title=Blade: Trinity<br>Budget=%{x}<br>Worldwide=%{y}<br>Year=%{customdata[0]}<extra></extra>",
         "hovertext": [
          "Blade: Trinity"
         ],
         "legendgroup": "Blade: Trinity",
         "marker": {
          "color": "#636efa",
          "symbol": "circle"
         },
         "mode": "markers",
         "name": "Blade: Trinity",
         "orientation": "v",
         "showlegend": true,
         "type": "scatter",
         "x": [
          65000000
         ],
         "xaxis": "x",
         "y": [
          128905366
         ],
         "yaxis": "y"
        },
        {
         "customdata": [
          [
           "2005"
          ]
         ],
         "hovertemplate": "<b>%{hovertext}</b><br><br>Title=Elektra<br>Budget=%{x}<br>Worldwide=%{y}<br>Year=%{customdata[0]}<extra></extra>",
         "hovertext": [
          "Elektra"
         ],
         "legendgroup": "Elektra",
         "marker": {
          "color": "#EF553B",
          "symbol": "diamond"
         },
         "mode": "markers",
         "name": "Elektra",
         "orientation": "v",
         "showlegend": true,
         "type": "scatter",
         "x": [
          43000000
         ],
         "xaxis": "x",
         "y": [
          56681566
         ],
         "yaxis": "y"
        },
        {
         "customdata": [
          [
           "2005"
          ],
          [
           "2015"
          ]
         ],
         "hovertemplate": "<b>%{hovertext}</b><br><br>Title=Fantastic Four<br>Budget=%{x}<br>Worldwide=%{y}<br>Year=%{customdata[0]}<extra></extra>",
         "hovertext": [
          "Fantastic Four",
          "Fantastic Four"
         ],
         "legendgroup": "Fantastic Four",
         "marker": {
          "color": "#00cc96",
          "symbol": "square"
         },
         "mode": "markers",
         "name": "Fantastic Four",
         "orientation": "v",
         "showlegend": true,
         "type": "scatter",
         "x": [
          100000000,
          120000000
         ],
         "xaxis": "x",
         "y": [
          330579719,
          167882881
         ],
         "yaxis": "y"
        },
        {
         "customdata": [
          [
           "2006"
          ]
         ],
         "hovertemplate": "<b>%{hovertext}</b><br><br>Title=X-Men: The Last Stand<br>Budget=%{x}<br>Worldwide=%{y}<br>Year=%{customdata[0]}<extra></extra>",
         "hovertext": [
          "X-Men: The Last Stand"
         ],
         "legendgroup": "X-Men: The Last Stand",
         "marker": {
          "color": "#ab63fa",
          "symbol": "x"
         },
         "mode": "markers",
         "name": "X-Men: The Last Stand",
         "orientation": "v",
         "showlegend": true,
         "type": "scatter",
         "x": [
          210000000
         ],
         "xaxis": "x",
         "y": [
          459359555
         ],
         "yaxis": "y"
        },
        {
         "customdata": [
          [
           "2007"
          ]
         ],
         "hovertemplate": "<b>%{hovertext}</b><br><br>Title=Ghost Rider<br>Budget=%{x}<br>Worldwide=%{y}<br>Year=%{customdata[0]}<extra></extra>",
         "hovertext": [
          "Ghost Rider"
         ],
         "legendgroup": "Ghost Rider",
         "marker": {
          "color": "#FFA15A",
          "symbol": "cross"
         },
         "mode": "markers",
         "name": "Ghost Rider",
         "orientation": "v",
         "showlegend": true,
         "type": "scatter",
         "x": [
          110000000
         ],
         "xaxis": "x",
         "y": [
          228738393
         ],
         "yaxis": "y"
        },
        {
         "customdata": [
          [
           "2007"
          ]
         ],
         "hovertemplate": "<b>%{hovertext}</b><br><br>Title=Spider-Man 3<br>Budget=%{x}<br>Worldwide=%{y}<br>Year=%{customdata[0]}<extra></extra>",
         "hovertext": [
          "Spider-Man 3"
         ],
         "legendgroup": "Spider-Man 3",
         "marker": {
          "color": "#19d3f3",
          "symbol": "circle"
         },
         "mode": "markers",
         "name": "Spider-Man 3",
         "orientation": "v",
         "showlegend": true,
         "type": "scatter",
         "x": [
          258000000
         ],
         "xaxis": "x",
         "y": [
          890871626
         ],
         "yaxis": "y"
        },
        {
         "customdata": [
          [
           "2007"
          ]
         ],
         "hovertemplate": "<b>%{hovertext}</b><br><br>Title=Fantastic Four: Rise of the Silver Surfer<br>Budget=%{x}<br>Worldwide=%{y}<br>Year=%{customdata[0]}<extra></extra>",
         "hovertext": [
          "Fantastic Four: Rise of the Silver Surfer"
         ],
         "legendgroup": "Fantastic Four: Rise of the Silver Surfer",
         "marker": {
          "color": "#FF6692",
          "symbol": "diamond"
         },
         "mode": "markers",
         "name": "Fantastic Four: Rise of the Silver Surfer",
         "orientation": "v",
         "showlegend": true,
         "type": "scatter",
         "x": [
          130000000
         ],
         "xaxis": "x",
         "y": [
          301913131
         ],
         "yaxis": "y"
        },
        {
         "customdata": [
          [
           "2008"
          ]
         ],
         "hovertemplate": "<b>%{hovertext}</b><br><br>Title=Iron Man<br>Budget=%{x}<br>Worldwide=%{y}<br>Year=%{customdata[0]}<extra></extra>",
         "hovertext": [
          "Iron Man"
         ],
         "legendgroup": "Iron Man",
         "marker": {
          "color": "#B6E880",
          "symbol": "square"
         },
         "mode": "markers",
         "name": "Iron Man",
         "orientation": "v",
         "showlegend": true,
         "type": "scatter",
         "x": [
          140000000
         ],
         "xaxis": "x",
         "y": [
          585174222
         ],
         "yaxis": "y"
        },
        {
         "customdata": [
          [
           "2008"
          ]
         ],
         "hovertemplate": "<b>%{hovertext}</b><br><br>Title=The Incredible Hulk<br>Budget=%{x}<br>Worldwide=%{y}<br>Year=%{customdata[0]}<extra></extra>",
         "hovertext": [
          "The Incredible Hulk"
         ],
         "legendgroup": "The Incredible Hulk",
         "marker": {
          "color": "#FF97FF",
          "symbol": "x"
         },
         "mode": "markers",
         "name": "The Incredible Hulk",
         "orientation": "v",
         "showlegend": true,
         "type": "scatter",
         "x": [
          150000000
         ],
         "xaxis": "x",
         "y": [
          263427551
         ],
         "yaxis": "y"
        },
        {
         "customdata": [
          [
           "2008"
          ]
         ],
         "hovertemplate": "<b>%{hovertext}</b><br><br>Title=Punisher: War Zone<br>Budget=%{x}<br>Worldwide=%{y}<br>Year=%{customdata[0]}<extra></extra>",
         "hovertext": [
          "Punisher: War Zone"
         ],
         "legendgroup": "Punisher: War Zone",
         "marker": {
          "color": "#FECB52",
          "symbol": "cross"
         },
         "mode": "markers",
         "name": "Punisher: War Zone",
         "orientation": "v",
         "showlegend": true,
         "type": "scatter",
         "x": [
          35000000
         ],
         "xaxis": "x",
         "y": [
          10100036
         ],
         "yaxis": "y"
        },
        {
         "customdata": [
          [
           "2009"
          ]
         ],
         "hovertemplate": "<b>%{hovertext}</b><br><br>Title=X-Men Origins: Wolverine<br>Budget=%{x}<br>Worldwide=%{y}<br>Year=%{customdata[0]}<extra></extra>",
         "hovertext": [
          "X-Men Origins: Wolverine"
         ],
         "legendgroup": "X-Men Origins: Wolverine",
         "marker": {
          "color": "#636efa",
          "symbol": "circle"
         },
         "mode": "markers",
         "name": "X-Men Origins: Wolverine",
         "orientation": "v",
         "showlegend": true,
         "type": "scatter",
         "x": [
          150000000
         ],
         "xaxis": "x",
         "y": [
          373062864
         ],
         "yaxis": "y"
        },
        {
         "customdata": [
          [
           "2010"
          ]
         ],
         "hovertemplate": "<b>%{hovertext}</b><br><br>Title=Iron Man 2<br>Budget=%{x}<br>Worldwide=%{y}<br>Year=%{customdata[0]}<extra></extra>",
         "hovertext": [
          "Iron Man 2"
         ],
         "legendgroup": "Iron Man 2",
         "marker": {
          "color": "#EF553B",
          "symbol": "diamond"
         },
         "mode": "markers",
         "name": "Iron Man 2",
         "orientation": "v",
         "showlegend": true,
         "type": "scatter",
         "x": [
          200000000
         ],
         "xaxis": "x",
         "y": [
          623933331
         ],
         "yaxis": "y"
        },
        {
         "customdata": [
          [
           "2011"
          ]
         ],
         "hovertemplate": "<b>%{hovertext}</b><br><br>Title=Thor<br>Budget=%{x}<br>Worldwide=%{y}<br>Year=%{customdata[0]}<extra></extra>",
         "hovertext": [
          "Thor"
         ],
         "legendgroup": "Thor",
         "marker": {
          "color": "#00cc96",
          "symbol": "square"
         },
         "mode": "markers",
         "name": "Thor",
         "orientation": "v",
         "showlegend": true,
         "type": "scatter",
         "x": [
          150000000
         ],
         "xaxis": "x",
         "y": [
          449326618
         ],
         "yaxis": "y"
        },
        {
         "customdata": [
          [
           "2011"
          ]
         ],
         "hovertemplate": "<b>%{hovertext}</b><br><br>Title=X-Men: First Class<br>Budget=%{x}<br>Worldwide=%{y}<br>Year=%{customdata[0]}<extra></extra>",
         "hovertext": [
          "X-Men: First Class"
         ],
         "legendgroup": "X-Men: First Class",
         "marker": {
          "color": "#ab63fa",
          "symbol": "x"
         },
         "mode": "markers",
         "name": "X-Men: First Class",
         "orientation": "v",
         "showlegend": true,
         "type": "scatter",
         "x": [
          160000000
         ],
         "xaxis": "x",
         "y": [
          353624124
         ],
         "yaxis": "y"
        },
        {
         "customdata": [
          [
           "2011"
          ]
         ],
         "hovertemplate": "<b>%{hovertext}</b><br><br>Title=Captain America: The First Avenger<br>Budget=%{x}<br>Worldwide=%{y}<br>Year=%{customdata[0]}<extra></extra>",
         "hovertext": [
          "Captain America: The First Avenger"
         ],
         "legendgroup": "Captain America: The First Avenger",
         "marker": {
          "color": "#FFA15A",
          "symbol": "cross"
         },
         "mode": "markers",
         "name": "Captain America: The First Avenger",
         "orientation": "v",
         "showlegend": true,
         "type": "scatter",
         "x": [
          140000000
         ],
         "xaxis": "x",
         "y": [
          370569774
         ],
         "yaxis": "y"
        },
        {
         "customdata": [
          [
           "2012"
          ]
         ],
         "hovertemplate": "<b>%{hovertext}</b><br><br>Title=Ghost Rider: Spirit of Vengeance<br>Budget=%{x}<br>Worldwide=%{y}<br>Year=%{customdata[0]}<extra></extra>",
         "hovertext": [
          "Ghost Rider: Spirit of Vengeance"
         ],
         "legendgroup": "Ghost Rider: Spirit of Vengeance",
         "marker": {
          "color": "#19d3f3",
          "symbol": "circle"
         },
         "mode": "markers",
         "name": "Ghost Rider: Spirit of Vengeance",
         "orientation": "v",
         "showlegend": true,
         "type": "scatter",
         "x": [
          57000000
         ],
         "xaxis": "x",
         "y": [
          132563930
         ],
         "yaxis": "y"
        },
        {
         "customdata": [
          [
           "2012"
          ]
         ],
         "hovertemplate": "<b>%{hovertext}</b><br><br>Title=The Avengers<br>Budget=%{x}<br>Worldwide=%{y}<br>Year=%{customdata[0]}<extra></extra>",
         "hovertext": [
          "The Avengers"
         ],
         "legendgroup": "The Avengers",
         "marker": {
          "color": "#FF6692",
          "symbol": "diamond"
         },
         "mode": "markers",
         "name": "The Avengers",
         "orientation": "v",
         "showlegend": true,
         "type": "scatter",
         "x": [
          220000000
         ],
         "xaxis": "x",
         "y": [
          1518812988
         ],
         "yaxis": "y"
        },
        {
         "customdata": [
          [
           "2012"
          ]
         ],
         "hovertemplate": "<b>%{hovertext}</b><br><br>Title=The Amazing Spider-Man<br>Budget=%{x}<br>Worldwide=%{y}<br>Year=%{customdata[0]}<extra></extra>",
         "hovertext": [
          "The Amazing Spider-Man"
         ],
         "legendgroup": "The Amazing Spider-Man",
         "marker": {
          "color": "#B6E880",
          "symbol": "square"
         },
         "mode": "markers",
         "name": "The Amazing Spider-Man",
         "orientation": "v",
         "showlegend": true,
         "type": "scatter",
         "x": [
          230000000
         ],
         "xaxis": "x",
         "y": [
          757930663
         ],
         "yaxis": "y"
        },
        {
         "customdata": [
          [
           "2013"
          ]
         ],
         "hovertemplate": "<b>%{hovertext}</b><br><br>Title=Iron Man 3<br>Budget=%{x}<br>Worldwide=%{y}<br>Year=%{customdata[0]}<extra></extra>",
         "hovertext": [
          "Iron Man 3"
         ],
         "legendgroup": "Iron Man 3",
         "marker": {
          "color": "#FF97FF",
          "symbol": "x"
         },
         "mode": "markers",
         "name": "Iron Man 3",
         "orientation": "v",
         "showlegend": true,
         "type": "scatter",
         "x": [
          200000000
         ],
         "xaxis": "x",
         "y": [
          1214811252
         ],
         "yaxis": "y"
        },
        {
         "customdata": [
          [
           "2013"
          ]
         ],
         "hovertemplate": "<b>%{hovertext}</b><br><br>Title=The Wolverine<br>Budget=%{x}<br>Worldwide=%{y}<br>Year=%{customdata[0]}<extra></extra>",
         "hovertext": [
          "The Wolverine"
         ],
         "legendgroup": "The Wolverine",
         "marker": {
          "color": "#FECB52",
          "symbol": "cross"
         },
         "mode": "markers",
         "name": "The Wolverine",
         "orientation": "v",
         "showlegend": true,
         "type": "scatter",
         "x": [
          120000000
         ],
         "xaxis": "x",
         "y": [
          414828246
         ],
         "yaxis": "y"
        },
        {
         "customdata": [
          [
           "2013"
          ]
         ],
         "hovertemplate": "<b>%{hovertext}</b><br><br>Title=Thor: The Dark World<br>Budget=%{x}<br>Worldwide=%{y}<br>Year=%{customdata[0]}<extra></extra>",
         "hovertext": [
          "Thor: The Dark World"
         ],
         "legendgroup": "Thor: The Dark World",
         "marker": {
          "color": "#636efa",
          "symbol": "circle"
         },
         "mode": "markers",
         "name": "Thor: The Dark World",
         "orientation": "v",
         "showlegend": true,
         "type": "scatter",
         "x": [
          170000000
         ],
         "xaxis": "x",
         "y": [
          644571402
         ],
         "yaxis": "y"
        },
        {
         "customdata": [
          [
           "2014"
          ]
         ],
         "hovertemplate": "<b>%{hovertext}</b><br><br>Title=Captain America: The Winter Soldier<br>Budget=%{x}<br>Worldwide=%{y}<br>Year=%{customdata[0]}<extra></extra>",
         "hovertext": [
          "Captain America: The Winter Soldier"
         ],
         "legendgroup": "Captain America: The Winter Soldier",
         "marker": {
          "color": "#EF553B",
          "symbol": "diamond"
         },
         "mode": "markers",
         "name": "Captain America: The Winter Soldier",
         "orientation": "v",
         "showlegend": true,
         "type": "scatter",
         "x": [
          170000000
         ],
         "xaxis": "x",
         "y": [
          714264267
         ],
         "yaxis": "y"
        },
        {
         "customdata": [
          [
           "2014"
          ]
         ],
         "hovertemplate": "<b>%{hovertext}</b><br><br>Title=The Amazing Spider-Man 2<br>Budget=%{x}<br>Worldwide=%{y}<br>Year=%{customdata[0]}<extra></extra>",
         "hovertext": [
          "The Amazing Spider-Man 2"
         ],
         "legendgroup": "The Amazing Spider-Man 2",
         "marker": {
          "color": "#00cc96",
          "symbol": "square"
         },
         "mode": "markers",
         "name": "The Amazing Spider-Man 2",
         "orientation": "v",
         "showlegend": true,
         "type": "scatter",
         "x": [
          255000000
         ],
         "xaxis": "x",
         "y": [
          708982323
         ],
         "yaxis": "y"
        },
        {
         "customdata": [
          [
           "2014"
          ]
         ],
         "hovertemplate": "<b>%{hovertext}</b><br><br>Title=X-Men: Days of Future Past<br>Budget=%{x}<br>Worldwide=%{y}<br>Year=%{customdata[0]}<extra></extra>",
         "hovertext": [
          "X-Men: Days of Future Past"
         ],
         "legendgroup": "X-Men: Days of Future Past",
         "marker": {
          "color": "#ab63fa",
          "symbol": "x"
         },
         "mode": "markers",
         "name": "X-Men: Days of Future Past",
         "orientation": "v",
         "showlegend": true,
         "type": "scatter",
         "x": [
          200000000
         ],
         "xaxis": "x",
         "y": [
          747862775
         ],
         "yaxis": "y"
        },
        {
         "customdata": [
          [
           "2014"
          ]
         ],
         "hovertemplate": "<b>%{hovertext}</b><br><br>Title=Guardians of the Galaxy<br>Budget=%{x}<br>Worldwide=%{y}<br>Year=%{customdata[0]}<extra></extra>",
         "hovertext": [
          "Guardians of the Galaxy"
         ],
         "legendgroup": "Guardians of the Galaxy",
         "marker": {
          "color": "#FFA15A",
          "symbol": "cross"
         },
         "mode": "markers",
         "name": "Guardians of the Galaxy",
         "orientation": "v",
         "showlegend": true,
         "type": "scatter",
         "x": [
          170000000
         ],
         "xaxis": "x",
         "y": [
          773328629
         ],
         "yaxis": "y"
        },
        {
         "customdata": [
          [
           "2014"
          ]
         ],
         "hovertemplate": "<b>%{hovertext}</b><br><br>Title=Big Hero 6<br>Budget=%{x}<br>Worldwide=%{y}<br>Year=%{customdata[0]}<extra></extra>",
         "hovertext": [
          "Big Hero 6"
         ],
         "legendgroup": "Big Hero 6",
         "marker": {
          "color": "#19d3f3",
          "symbol": "circle"
         },
         "mode": "markers",
         "name": "Big Hero 6",
         "orientation": "v",
         "showlegend": true,
         "type": "scatter",
         "x": [
          165000000
         ],
         "xaxis": "x",
         "y": [
          657827828
         ],
         "yaxis": "y"
        },
        {
         "customdata": [
          [
           "2015"
          ]
         ],
         "hovertemplate": "<b>%{hovertext}</b><br><br>Title=Avengers: Age of Ultron<br>Budget=%{x}<br>Worldwide=%{y}<br>Year=%{customdata[0]}<extra></extra>",
         "hovertext": [
          "Avengers: Age of Ultron"
         ],
         "legendgroup": "Avengers: Age of Ultron",
         "marker": {
          "color": "#FF6692",
          "symbol": "diamond"
         },
         "mode": "markers",
         "name": "Avengers: Age of Ultron",
         "orientation": "v",
         "showlegend": true,
         "type": "scatter",
         "x": [
          250000000
         ],
         "xaxis": "x",
         "y": [
          1405403694
         ],
         "yaxis": "y"
        },
        {
         "customdata": [
          [
           "2015"
          ]
         ],
         "hovertemplate": "<b>%{hovertext}</b><br><br>Title=Ant-Man<br>Budget=%{x}<br>Worldwide=%{y}<br>Year=%{customdata[0]}<extra></extra>",
         "hovertext": [
          "Ant-Man"
         ],
         "legendgroup": "Ant-Man",
         "marker": {
          "color": "#B6E880",
          "symbol": "square"
         },
         "mode": "markers",
         "name": "Ant-Man",
         "orientation": "v",
         "showlegend": true,
         "type": "scatter",
         "x": [
          130000000
         ],
         "xaxis": "x",
         "y": [
          519311965
         ],
         "yaxis": "y"
        },
        {
         "customdata": [
          [
           "2016"
          ]
         ],
         "hovertemplate": "<b>%{hovertext}</b><br><br>Title=Deadpool<br>Budget=%{x}<br>Worldwide=%{y}<br>Year=%{customdata[0]}<extra></extra>",
         "hovertext": [
          "Deadpool"
         ],
         "legendgroup": "Deadpool",
         "marker": {
          "color": "#FF97FF",
          "symbol": "x"
         },
         "mode": "markers",
         "name": "Deadpool",
         "orientation": "v",
         "showlegend": true,
         "type": "scatter",
         "x": [
          58000000
         ],
         "xaxis": "x",
         "y": [
          783112979
         ],
         "yaxis": "y"
        },
        {
         "customdata": [
          [
           "2016"
          ]
         ],
         "hovertemplate": "<b>%{hovertext}</b><br><br>Title=Captain America: Civil War<br>Budget=%{x}<br>Worldwide=%{y}<br>Year=%{customdata[0]}<extra></extra>",
         "hovertext": [
          "Captain America: Civil War"
         ],
         "legendgroup": "Captain America: Civil War",
         "marker": {
          "color": "#FECB52",
          "symbol": "cross"
         },
         "mode": "markers",
         "name": "Captain America: Civil War",
         "orientation": "v",
         "showlegend": true,
         "type": "scatter",
         "x": [
          250000000
         ],
         "xaxis": "x",
         "y": [
          1153304495
         ],
         "yaxis": "y"
        },
        {
         "customdata": [
          [
           "2016"
          ]
         ],
         "hovertemplate": "<b>%{hovertext}</b><br><br>Title=X-Men: Apocalypse<br>Budget=%{x}<br>Worldwide=%{y}<br>Year=%{customdata[0]}<extra></extra>",
         "hovertext": [
          "X-Men: Apocalypse"
         ],
         "legendgroup": "X-Men: Apocalypse",
         "marker": {
          "color": "#636efa",
          "symbol": "circle"
         },
         "mode": "markers",
         "name": "X-Men: Apocalypse",
         "orientation": "v",
         "showlegend": true,
         "type": "scatter",
         "x": [
          178000000
         ],
         "xaxis": "x",
         "y": [
          543934105
         ],
         "yaxis": "y"
        },
        {
         "customdata": [
          [
           "2016"
          ]
         ],
         "hovertemplate": "<b>%{hovertext}</b><br><br>Title=Doctor Strange<br>Budget=%{x}<br>Worldwide=%{y}<br>Year=%{customdata[0]}<extra></extra>",
         "hovertext": [
          "Doctor Strange"
         ],
         "legendgroup": "Doctor Strange",
         "marker": {
          "color": "#EF553B",
          "symbol": "diamond"
         },
         "mode": "markers",
         "name": "Doctor Strange",
         "orientation": "v",
         "showlegend": true,
         "type": "scatter",
         "x": [
          165000000
         ],
         "xaxis": "x",
         "y": [
          677718395
         ],
         "yaxis": "y"
        },
        {
         "customdata": [
          [
           "2017"
          ]
         ],
         "hovertemplate": "<b>%{hovertext}</b><br><br>Title=Logan<br>Budget=%{x}<br>Worldwide=%{y}<br>Year=%{customdata[0]}<extra></extra>",
         "hovertext": [
          "Logan"
         ],
         "legendgroup": "Logan",
         "marker": {
          "color": "#00cc96",
          "symbol": "square"
         },
         "mode": "markers",
         "name": "Logan",
         "orientation": "v",
         "showlegend": true,
         "type": "scatter",
         "x": [
          97000000
         ],
         "xaxis": "x",
         "y": [
          616795600
         ],
         "yaxis": "y"
        },
        {
         "customdata": [
          [
           "2017"
          ]
         ],
         "hovertemplate": "<b>%{hovertext}</b><br><br>Title=Guardians of the Galaxy Vol. 2<br>Budget=%{x}<br>Worldwide=%{y}<br>Year=%{customdata[0]}<extra></extra>",
         "hovertext": [
          "Guardians of the Galaxy Vol. 2"
         ],
         "legendgroup": "Guardians of the Galaxy Vol. 2",
         "marker": {
          "color": "#ab63fa",
          "symbol": "x"
         },
         "mode": "markers",
         "name": "Guardians of the Galaxy Vol. 2",
         "orientation": "v",
         "showlegend": true,
         "type": "scatter",
         "x": [
          200000000
         ],
         "xaxis": "x",
         "y": [
          863756051
         ],
         "yaxis": "y"
        },
        {
         "customdata": [
          [
           "2017"
          ]
         ],
         "hovertemplate": "<b>%{hovertext}</b><br><br>Title=Spider-Man: Homecoming<br>Budget=%{x}<br>Worldwide=%{y}<br>Year=%{customdata[0]}<extra></extra>",
         "hovertext": [
          "Spider-Man: Homecoming"
         ],
         "legendgroup": "Spider-Man: Homecoming",
         "marker": {
          "color": "#FFA15A",
          "symbol": "cross"
         },
         "mode": "markers",
         "name": "Spider-Man: Homecoming",
         "orientation": "v",
         "showlegend": true,
         "type": "scatter",
         "x": [
          175000000
         ],
         "xaxis": "x",
         "y": [
          880166924
         ],
         "yaxis": "y"
        },
        {
         "customdata": [
          [
           "2017"
          ]
         ],
         "hovertemplate": "<b>%{hovertext}</b><br><br>Title=Inhumans<br>Budget=%{x}<br>Worldwide=%{y}<br>Year=%{customdata[0]}<extra></extra>",
         "hovertext": [
          "Inhumans"
         ],
         "legendgroup": "Inhumans",
         "marker": {
          "color": "#19d3f3",
          "symbol": "circle"
         },
         "mode": "markers",
         "name": "Inhumans",
         "orientation": "v",
         "showlegend": true,
         "type": "scatter",
         "x": [
          0
         ],
         "xaxis": "x",
         "y": [
          2852282
         ],
         "yaxis": "y"
        },
        {
         "customdata": [
          [
           "2017"
          ]
         ],
         "hovertemplate": "<b>%{hovertext}</b><br><br>Title=Thor: Ragnarok<br>Budget=%{x}<br>Worldwide=%{y}<br>Year=%{customdata[0]}<extra></extra>",
         "hovertext": [
          "Thor: Ragnarok"
         ],
         "legendgroup": "Thor: Ragnarok",
         "marker": {
          "color": "#FF6692",
          "symbol": "diamond"
         },
         "mode": "markers",
         "name": "Thor: Ragnarok",
         "orientation": "v",
         "showlegend": true,
         "type": "scatter",
         "x": [
          180000000
         ],
         "xaxis": "x",
         "y": [
          853977126
         ],
         "yaxis": "y"
        },
        {
         "customdata": [
          [
           "2018"
          ]
         ],
         "hovertemplate": "<b>%{hovertext}</b><br><br>Title=Black Panther<br>Budget=%{x}<br>Worldwide=%{y}<br>Year=%{customdata[0]}<extra></extra>",
         "hovertext": [
          "Black Panther"
         ],
         "legendgroup": "Black Panther",
         "marker": {
          "color": "#B6E880",
          "symbol": "square"
         },
         "mode": "markers",
         "name": "Black Panther",
         "orientation": "v",
         "showlegend": true,
         "type": "scatter",
         "x": [
          200000000
         ],
         "xaxis": "x",
         "y": [
          1346913161
         ],
         "yaxis": "y"
        },
        {
         "customdata": [
          [
           "2018"
          ]
         ],
         "hovertemplate": "<b>%{hovertext}</b><br><br>Title=Avengers: Infinity War<br>Budget=%{x}<br>Worldwide=%{y}<br>Year=%{customdata[0]}<extra></extra>",
         "hovertext": [
          "Avengers: Infinity War"
         ],
         "legendgroup": "Avengers: Infinity War",
         "marker": {
          "color": "#FF97FF",
          "symbol": "x"
         },
         "mode": "markers",
         "name": "Avengers: Infinity War",
         "orientation": "v",
         "showlegend": true,
         "type": "scatter",
         "x": [
          316000000
         ],
         "xaxis": "x",
         "y": [
          2048359754
         ],
         "yaxis": "y"
        },
        {
         "customdata": [
          [
           "2018"
          ]
         ],
         "hovertemplate": "<b>%{hovertext}</b><br><br>Title=Deadpool 2<br>Budget=%{x}<br>Worldwide=%{y}<br>Year=%{customdata[0]}<extra></extra>",
         "hovertext": [
          "Deadpool 2"
         ],
         "legendgroup": "Deadpool 2",
         "marker": {
          "color": "#FECB52",
          "symbol": "cross"
         },
         "mode": "markers",
         "name": "Deadpool 2",
         "orientation": "v",
         "showlegend": true,
         "type": "scatter",
         "x": [
          110000000
         ],
         "xaxis": "x",
         "y": [
          785046920
         ],
         "yaxis": "y"
        },
        {
         "customdata": [
          [
           "2018"
          ]
         ],
         "hovertemplate": "<b>%{hovertext}</b><br><br>Title=Ant-Man and the Wasp<br>Budget=%{x}<br>Worldwide=%{y}<br>Year=%{customdata[0]}<extra></extra>",
         "hovertext": [
          "Ant-Man and the Wasp"
         ],
         "legendgroup": "Ant-Man and the Wasp",
         "marker": {
          "color": "#636efa",
          "symbol": "circle"
         },
         "mode": "markers",
         "name": "Ant-Man and the Wasp",
         "orientation": "v",
         "showlegend": true,
         "type": "scatter",
         "x": [
          162000000
         ],
         "xaxis": "x",
         "y": [
          622674139
         ],
         "yaxis": "y"
        },
        {
         "customdata": [
          [
           "2018"
          ]
         ],
         "hovertemplate": "<b>%{hovertext}</b><br><br>Title=Venom<br>Budget=%{x}<br>Worldwide=%{y}<br>Year=%{customdata[0]}<extra></extra>",
         "hovertext": [
          "Venom"
         ],
         "legendgroup": "Venom",
         "marker": {
          "color": "#EF553B",
          "symbol": "diamond"
         },
         "mode": "markers",
         "name": "Venom",
         "orientation": "v",
         "showlegend": true,
         "type": "scatter",
         "x": [
          100000000
         ],
         "xaxis": "x",
         "y": [
          855013954
         ],
         "yaxis": "y"
        },
        {
         "customdata": [
          [
           "2018"
          ]
         ],
         "hovertemplate": "<b>%{hovertext}</b><br><br>Title=Spider-Man: Into the Spider-Verse<br>Budget=%{x}<br>Worldwide=%{y}<br>Year=%{customdata[0]}<extra></extra>",
         "hovertext": [
          "Spider-Man: Into the Spider-Verse"
         ],
         "legendgroup": "Spider-Man: Into the Spider-Verse",
         "marker": {
          "color": "#00cc96",
          "symbol": "square"
         },
         "mode": "markers",
         "name": "Spider-Man: Into the Spider-Verse",
         "orientation": "v",
         "showlegend": true,
         "type": "scatter",
         "x": [
          90000000
         ],
         "xaxis": "x",
         "y": [
          375540831
         ],
         "yaxis": "y"
        },
        {
         "customdata": [
          [
           "2019"
          ]
         ],
         "hovertemplate": "<b>%{hovertext}</b><br><br>Title=Captain Marvel<br>Budget=%{x}<br>Worldwide=%{y}<br>Year=%{customdata[0]}<extra></extra>",
         "hovertext": [
          "Captain Marvel"
         ],
         "legendgroup": "Captain Marvel",
         "marker": {
          "color": "#ab63fa",
          "symbol": "x"
         },
         "mode": "markers",
         "name": "Captain Marvel",
         "orientation": "v",
         "showlegend": true,
         "type": "scatter",
         "x": [
          152000000
         ],
         "xaxis": "x",
         "y": [
          1128274794
         ],
         "yaxis": "y"
        },
        {
         "customdata": [
          [
           "2019"
          ]
         ],
         "hovertemplate": "<b>%{hovertext}</b><br><br>Title=Avengers: Endgame<br>Budget=%{x}<br>Worldwide=%{y}<br>Year=%{customdata[0]}<extra></extra>",
         "hovertext": [
          "Avengers: Endgame"
         ],
         "legendgroup": "Avengers: Endgame",
         "marker": {
          "color": "#FFA15A",
          "symbol": "cross"
         },
         "mode": "markers",
         "name": "Avengers: Endgame",
         "orientation": "v",
         "showlegend": true,
         "type": "scatter",
         "x": [
          356000000
         ],
         "xaxis": "x",
         "y": [
          2797800564
         ],
         "yaxis": "y"
        },
        {
         "customdata": [
          [
           "2019"
          ]
         ],
         "hovertemplate": "<b>%{hovertext}</b><br><br>Title=Dark Phoenix<br>Budget=%{x}<br>Worldwide=%{y}<br>Year=%{customdata[0]}<extra></extra>",
         "hovertext": [
          "Dark Phoenix"
         ],
         "legendgroup": "Dark Phoenix",
         "marker": {
          "color": "#19d3f3",
          "symbol": "circle"
         },
         "mode": "markers",
         "name": "Dark Phoenix",
         "orientation": "v",
         "showlegend": true,
         "type": "scatter",
         "x": [
          200000000
         ],
         "xaxis": "x",
         "y": [
          252442974
         ],
         "yaxis": "y"
        },
        {
         "customdata": [
          [
           "2019"
          ]
         ],
         "hovertemplate": "<b>%{hovertext}</b><br><br>Title=Spider-Man: Far From Home<br>Budget=%{x}<br>Worldwide=%{y}<br>Year=%{customdata[0]}<extra></extra>",
         "hovertext": [
          "Spider-Man: Far From Home"
         ],
         "legendgroup": "Spider-Man: Far From Home",
         "marker": {
          "color": "#FF6692",
          "symbol": "diamond"
         },
         "mode": "markers",
         "name": "Spider-Man: Far From Home",
         "orientation": "v",
         "showlegend": true,
         "type": "scatter",
         "x": [
          160000000
         ],
         "xaxis": "x",
         "y": [
          1131927996
         ],
         "yaxis": "y"
        },
        {
         "customdata": [
          [
           "2020"
          ]
         ],
         "hovertemplate": "<b>%{hovertext}</b><br><br>Title=The New Mutants<br>Budget=%{x}<br>Worldwide=%{y}<br>Year=%{customdata[0]}<extra></extra>",
         "hovertext": [
          "The New Mutants"
         ],
         "legendgroup": "The New Mutants",
         "marker": {
          "color": "#B6E880",
          "symbol": "square"
         },
         "mode": "markers",
         "name": "The New Mutants",
         "orientation": "v",
         "showlegend": true,
         "type": "scatter",
         "x": [
          67000000
         ],
         "xaxis": "x",
         "y": [
          48675066
         ],
         "yaxis": "y"
        },
        {
         "customdata": [
          [
           "2021"
          ]
         ],
         "hovertemplate": "<b>%{hovertext}</b><br><br>Title=Black Widow<br>Budget=%{x}<br>Worldwide=%{y}<br>Year=%{customdata[0]}<extra></extra>",
         "hovertext": [
          "Black Widow"
         ],
         "legendgroup": "Black Widow",
         "marker": {
          "color": "#FF97FF",
          "symbol": "x"
         },
         "mode": "markers",
         "name": "Black Widow",
         "orientation": "v",
         "showlegend": true,
         "type": "scatter",
         "x": [
          200000000
         ],
         "xaxis": "x",
         "y": [
          379631351
         ],
         "yaxis": "y"
        },
        {
         "customdata": [
          [
           "2021"
          ]
         ],
         "hovertemplate": "<b>%{hovertext}</b><br><br>Title=Shang-Chi and the Legend of the Ten Rings<br>Budget=%{x}<br>Worldwide=%{y}<br>Year=%{customdata[0]}<extra></extra>",
         "hovertext": [
          "Shang-Chi and the Legend of the Ten Rings"
         ],
         "legendgroup": "Shang-Chi and the Legend of the Ten Rings",
         "marker": {
          "color": "#FECB52",
          "symbol": "cross"
         },
         "mode": "markers",
         "name": "Shang-Chi and the Legend of the Ten Rings",
         "orientation": "v",
         "showlegend": true,
         "type": "scatter",
         "x": [
          150000000
         ],
         "xaxis": "x",
         "y": [
          432243292
         ],
         "yaxis": "y"
        },
        {
         "customdata": [
          [
           "2021"
          ]
         ],
         "hovertemplate": "<b>%{hovertext}</b><br><br>Title=Venom: Let There Be Carnage<br>Budget=%{x}<br>Worldwide=%{y}<br>Year=%{customdata[0]}<extra></extra>",
         "hovertext": [
          "Venom: Let There Be Carnage"
         ],
         "legendgroup": "Venom: Let There Be Carnage",
         "marker": {
          "color": "#636efa",
          "symbol": "circle"
         },
         "mode": "markers",
         "name": "Venom: Let There Be Carnage",
         "orientation": "v",
         "showlegend": true,
         "type": "scatter",
         "x": [
          110000000
         ],
         "xaxis": "x",
         "y": [
          502050366
         ],
         "yaxis": "y"
        },
        {
         "customdata": [
          [
           "2021"
          ]
         ],
         "hovertemplate": "<b>%{hovertext}</b><br><br>Title=Eternals<br>Budget=%{x}<br>Worldwide=%{y}<br>Year=%{customdata[0]}<extra></extra>",
         "hovertext": [
          "Eternals"
         ],
         "legendgroup": "Eternals",
         "marker": {
          "color": "#EF553B",
          "symbol": "diamond"
         },
         "mode": "markers",
         "name": "Eternals",
         "orientation": "v",
         "showlegend": true,
         "type": "scatter",
         "x": [
          200000000
         ],
         "xaxis": "x",
         "y": [
          402064899
         ],
         "yaxis": "y"
        },
        {
         "customdata": [
          [
           "2021"
          ]
         ],
         "hovertemplate": "<b>%{hovertext}</b><br><br>Title=Spider-Man: No Way Home<br>Budget=%{x}<br>Worldwide=%{y}<br>Year=%{customdata[0]}<extra></extra>",
         "hovertext": [
          "Spider-Man: No Way Home"
         ],
         "legendgroup": "Spider-Man: No Way Home",
         "marker": {
          "color": "#00cc96",
          "symbol": "square"
         },
         "mode": "markers",
         "name": "Spider-Man: No Way Home",
         "orientation": "v",
         "showlegend": true,
         "type": "scatter",
         "x": [
          200000000
         ],
         "xaxis": "x",
         "y": [
          1852418859
         ],
         "yaxis": "y"
        },
        {
         "line": {
          "shape": "hv"
         },
         "marker": {
          "color": "gold"
         },
         "name": "Shang Chi Budget",
         "type": "scatter",
         "x": [
          150000000,
          150000000,
          150000000,
          150000000,
          150000000,
          150000000,
          150000000,
          150000000,
          150000000,
          150000000,
          150000000,
          150000000,
          150000000,
          150000000,
          150000000,
          150000000,
          150000000,
          150000000,
          150000000,
          150000000,
          150000000,
          150000000,
          150000000,
          150000000,
          150000000,
          150000000,
          150000000,
          150000000,
          150000000,
          150000000,
          150000000,
          150000000,
          150000000,
          150000000,
          150000000,
          150000000,
          150000000,
          150000000,
          150000000,
          150000000,
          150000000,
          150000000,
          150000000,
          150000000,
          150000000,
          150000000,
          150000000,
          150000000,
          150000000,
          150000000,
          150000000,
          150000000,
          150000000,
          150000000,
          150000000,
          150000000,
          150000000,
          150000000,
          150000000,
          150000000,
          150000000,
          150000000,
          150000000,
          150000000
         ],
         "y": [
          37962774,
          131183530,
          296339527,
          155010032,
          821708551,
          179179718,
          407711549,
          245360480,
          54700105,
          788976453,
          128905366,
          56681566,
          330579719,
          459359555,
          228738393,
          890871626,
          301913131,
          585174222,
          263427551,
          10100036,
          373062864,
          623933331,
          449326618,
          353624124,
          370569774,
          132563930,
          1518812988,
          757930663,
          1214811252,
          414828246,
          644571402,
          714264267,
          708982323,
          747862775,
          773328629,
          657827828,
          1405403694,
          519311965,
          167882881,
          783112979,
          1153304495,
          543934105,
          677718395,
          616795600,
          863756051,
          880166924,
          2852282,
          853977126,
          1346913161,
          2048359754,
          785046920,
          622674139,
          855013954,
          375540831,
          1128274794,
          2797800564,
          252442974,
          1131927996,
          48675066,
          379631351,
          432243292,
          502050366,
          402064899,
          1852418859
         ]
        },
        {
         "line": {
          "shape": "hv"
         },
         "marker": {
          "color": "#83b44b"
         },
         "name": "Black Panther Budget",
         "type": "scatter",
         "x": [
          200000000,
          200000000,
          200000000,
          200000000,
          200000000,
          200000000,
          200000000,
          200000000,
          200000000,
          200000000,
          200000000,
          200000000,
          200000000,
          200000000,
          200000000,
          200000000,
          200000000,
          200000000,
          200000000,
          200000000,
          200000000,
          200000000,
          200000000,
          200000000,
          200000000,
          200000000,
          200000000,
          200000000,
          200000000,
          200000000,
          200000000,
          200000000,
          200000000,
          200000000,
          200000000,
          200000000,
          200000000,
          200000000,
          200000000,
          200000000,
          200000000,
          200000000,
          200000000,
          200000000,
          200000000,
          200000000,
          200000000,
          200000000,
          200000000,
          200000000,
          200000000,
          200000000,
          200000000,
          200000000,
          200000000,
          200000000,
          200000000,
          200000000,
          200000000,
          200000000,
          200000000,
          200000000,
          200000000,
          200000000
         ],
         "y": [
          37962774,
          131183530,
          296339527,
          155010032,
          821708551,
          179179718,
          407711549,
          245360480,
          54700105,
          788976453,
          128905366,
          56681566,
          330579719,
          459359555,
          228738393,
          890871626,
          301913131,
          585174222,
          263427551,
          10100036,
          373062864,
          623933331,
          449326618,
          353624124,
          370569774,
          132563930,
          1518812988,
          757930663,
          1214811252,
          414828246,
          644571402,
          714264267,
          708982323,
          747862775,
          773328629,
          657827828,
          1405403694,
          519311965,
          167882881,
          783112979,
          1153304495,
          543934105,
          677718395,
          616795600,
          863756051,
          880166924,
          2852282,
          853977126,
          1346913161,
          2048359754,
          785046920,
          622674139,
          855013954,
          375540831,
          1128274794,
          2797800564,
          252442974,
          1131927996,
          48675066,
          379631351,
          432243292,
          502050366,
          402064899,
          1852418859
         ]
        },
        {
         "line": {
          "shape": "hv"
         },
         "marker": {
          "color": "#03a9f4"
         },
         "name": "Big Hero Six Budget",
         "type": "scatter",
         "x": [
          165000000,
          165000000,
          165000000,
          165000000,
          165000000,
          165000000,
          165000000,
          165000000,
          165000000,
          165000000,
          165000000,
          165000000,
          165000000,
          165000000,
          165000000,
          165000000,
          165000000,
          165000000,
          165000000,
          165000000,
          165000000,
          165000000,
          165000000,
          165000000,
          165000000,
          165000000,
          165000000,
          165000000,
          165000000,
          165000000,
          165000000,
          165000000,
          165000000,
          165000000,
          165000000,
          165000000,
          165000000,
          165000000,
          165000000,
          165000000,
          165000000,
          165000000,
          165000000,
          165000000,
          165000000,
          165000000,
          165000000,
          165000000,
          165000000,
          165000000,
          165000000,
          165000000,
          165000000,
          165000000,
          165000000,
          165000000,
          165000000,
          165000000,
          165000000,
          165000000,
          165000000,
          165000000,
          165000000,
          165000000
         ],
         "y": [
          37962774,
          131183530,
          296339527,
          155010032,
          821708551,
          179179718,
          407711549,
          245360480,
          54700105,
          788976453,
          128905366,
          56681566,
          330579719,
          459359555,
          228738393,
          890871626,
          301913131,
          585174222,
          263427551,
          10100036,
          373062864,
          623933331,
          449326618,
          353624124,
          370569774,
          132563930,
          1518812988,
          757930663,
          1214811252,
          414828246,
          644571402,
          714264267,
          708982323,
          747862775,
          773328629,
          657827828,
          1405403694,
          519311965,
          167882881,
          783112979,
          1153304495,
          543934105,
          677718395,
          616795600,
          863756051,
          880166924,
          2852282,
          853977126,
          1346913161,
          2048359754,
          785046920,
          622674139,
          855013954,
          375540831,
          1128274794,
          2797800564,
          252442974,
          1131927996,
          48675066,
          379631351,
          432243292,
          502050366,
          402064899,
          1852418859
         ]
        },
        {
         "marker": {
          "color": "#FFA500",
          "size": 15,
          "symbol": "star"
         },
         "mode": "markers",
         "name": "Shang Chi",
         "type": "scatter",
         "x": [
          150000000
         ],
         "y": [
          432243292
         ]
        },
        {
         "marker": {
          "color": "#378805",
          "size": 15,
          "symbol": "star"
         },
         "mode": "markers",
         "name": "Black Panther",
         "type": "scatter",
         "x": [
          200000000
         ],
         "y": [
          1346913161
         ]
        },
        {
         "marker": {
          "color": "blue",
          "size": 15,
          "symbol": "star"
         },
         "mode": "markers",
         "name": "Big Hero Six",
         "type": "scatter",
         "x": [
          165000000
         ],
         "y": [
          657827828
         ]
        }
       ],
       "layout": {
        "legend": {
         "title": {
          "text": "Title"
         },
         "tracegroupgap": 0
        },
        "margin": {
         "t": 60
        },
        "template": {
         "data": {
          "bar": [
           {
            "error_x": {
             "color": "#2a3f5f"
            },
            "error_y": {
             "color": "#2a3f5f"
            },
            "marker": {
             "line": {
              "color": "#E5ECF6",
              "width": 0.5
             },
             "pattern": {
              "fillmode": "overlay",
              "size": 10,
              "solidity": 0.2
             }
            },
            "type": "bar"
           }
          ],
          "barpolar": [
           {
            "marker": {
             "line": {
              "color": "#E5ECF6",
              "width": 0.5
             },
             "pattern": {
              "fillmode": "overlay",
              "size": 10,
              "solidity": 0.2
             }
            },
            "type": "barpolar"
           }
          ],
          "carpet": [
           {
            "aaxis": {
             "endlinecolor": "#2a3f5f",
             "gridcolor": "white",
             "linecolor": "white",
             "minorgridcolor": "white",
             "startlinecolor": "#2a3f5f"
            },
            "baxis": {
             "endlinecolor": "#2a3f5f",
             "gridcolor": "white",
             "linecolor": "white",
             "minorgridcolor": "white",
             "startlinecolor": "#2a3f5f"
            },
            "type": "carpet"
           }
          ],
          "choropleth": [
           {
            "colorbar": {
             "outlinewidth": 0,
             "ticks": ""
            },
            "type": "choropleth"
           }
          ],
          "contour": [
           {
            "colorbar": {
             "outlinewidth": 0,
             "ticks": ""
            },
            "colorscale": [
             [
              0,
              "#0d0887"
             ],
             [
              0.1111111111111111,
              "#46039f"
             ],
             [
              0.2222222222222222,
              "#7201a8"
             ],
             [
              0.3333333333333333,
              "#9c179e"
             ],
             [
              0.4444444444444444,
              "#bd3786"
             ],
             [
              0.5555555555555556,
              "#d8576b"
             ],
             [
              0.6666666666666666,
              "#ed7953"
             ],
             [
              0.7777777777777778,
              "#fb9f3a"
             ],
             [
              0.8888888888888888,
              "#fdca26"
             ],
             [
              1,
              "#f0f921"
             ]
            ],
            "type": "contour"
           }
          ],
          "contourcarpet": [
           {
            "colorbar": {
             "outlinewidth": 0,
             "ticks": ""
            },
            "type": "contourcarpet"
           }
          ],
          "heatmap": [
           {
            "colorbar": {
             "outlinewidth": 0,
             "ticks": ""
            },
            "colorscale": [
             [
              0,
              "#0d0887"
             ],
             [
              0.1111111111111111,
              "#46039f"
             ],
             [
              0.2222222222222222,
              "#7201a8"
             ],
             [
              0.3333333333333333,
              "#9c179e"
             ],
             [
              0.4444444444444444,
              "#bd3786"
             ],
             [
              0.5555555555555556,
              "#d8576b"
             ],
             [
              0.6666666666666666,
              "#ed7953"
             ],
             [
              0.7777777777777778,
              "#fb9f3a"
             ],
             [
              0.8888888888888888,
              "#fdca26"
             ],
             [
              1,
              "#f0f921"
             ]
            ],
            "type": "heatmap"
           }
          ],
          "heatmapgl": [
           {
            "colorbar": {
             "outlinewidth": 0,
             "ticks": ""
            },
            "colorscale": [
             [
              0,
              "#0d0887"
             ],
             [
              0.1111111111111111,
              "#46039f"
             ],
             [
              0.2222222222222222,
              "#7201a8"
             ],
             [
              0.3333333333333333,
              "#9c179e"
             ],
             [
              0.4444444444444444,
              "#bd3786"
             ],
             [
              0.5555555555555556,
              "#d8576b"
             ],
             [
              0.6666666666666666,
              "#ed7953"
             ],
             [
              0.7777777777777778,
              "#fb9f3a"
             ],
             [
              0.8888888888888888,
              "#fdca26"
             ],
             [
              1,
              "#f0f921"
             ]
            ],
            "type": "heatmapgl"
           }
          ],
          "histogram": [
           {
            "marker": {
             "pattern": {
              "fillmode": "overlay",
              "size": 10,
              "solidity": 0.2
             }
            },
            "type": "histogram"
           }
          ],
          "histogram2d": [
           {
            "colorbar": {
             "outlinewidth": 0,
             "ticks": ""
            },
            "colorscale": [
             [
              0,
              "#0d0887"
             ],
             [
              0.1111111111111111,
              "#46039f"
             ],
             [
              0.2222222222222222,
              "#7201a8"
             ],
             [
              0.3333333333333333,
              "#9c179e"
             ],
             [
              0.4444444444444444,
              "#bd3786"
             ],
             [
              0.5555555555555556,
              "#d8576b"
             ],
             [
              0.6666666666666666,
              "#ed7953"
             ],
             [
              0.7777777777777778,
              "#fb9f3a"
             ],
             [
              0.8888888888888888,
              "#fdca26"
             ],
             [
              1,
              "#f0f921"
             ]
            ],
            "type": "histogram2d"
           }
          ],
          "histogram2dcontour": [
           {
            "colorbar": {
             "outlinewidth": 0,
             "ticks": ""
            },
            "colorscale": [
             [
              0,
              "#0d0887"
             ],
             [
              0.1111111111111111,
              "#46039f"
             ],
             [
              0.2222222222222222,
              "#7201a8"
             ],
             [
              0.3333333333333333,
              "#9c179e"
             ],
             [
              0.4444444444444444,
              "#bd3786"
             ],
             [
              0.5555555555555556,
              "#d8576b"
             ],
             [
              0.6666666666666666,
              "#ed7953"
             ],
             [
              0.7777777777777778,
              "#fb9f3a"
             ],
             [
              0.8888888888888888,
              "#fdca26"
             ],
             [
              1,
              "#f0f921"
             ]
            ],
            "type": "histogram2dcontour"
           }
          ],
          "mesh3d": [
           {
            "colorbar": {
             "outlinewidth": 0,
             "ticks": ""
            },
            "type": "mesh3d"
           }
          ],
          "parcoords": [
           {
            "line": {
             "colorbar": {
              "outlinewidth": 0,
              "ticks": ""
             }
            },
            "type": "parcoords"
           }
          ],
          "pie": [
           {
            "automargin": true,
            "type": "pie"
           }
          ],
          "scatter": [
           {
            "marker": {
             "colorbar": {
              "outlinewidth": 0,
              "ticks": ""
             }
            },
            "type": "scatter"
           }
          ],
          "scatter3d": [
           {
            "line": {
             "colorbar": {
              "outlinewidth": 0,
              "ticks": ""
             }
            },
            "marker": {
             "colorbar": {
              "outlinewidth": 0,
              "ticks": ""
             }
            },
            "type": "scatter3d"
           }
          ],
          "scattercarpet": [
           {
            "marker": {
             "colorbar": {
              "outlinewidth": 0,
              "ticks": ""
             }
            },
            "type": "scattercarpet"
           }
          ],
          "scattergeo": [
           {
            "marker": {
             "colorbar": {
              "outlinewidth": 0,
              "ticks": ""
             }
            },
            "type": "scattergeo"
           }
          ],
          "scattergl": [
           {
            "marker": {
             "colorbar": {
              "outlinewidth": 0,
              "ticks": ""
             }
            },
            "type": "scattergl"
           }
          ],
          "scattermapbox": [
           {
            "marker": {
             "colorbar": {
              "outlinewidth": 0,
              "ticks": ""
             }
            },
            "type": "scattermapbox"
           }
          ],
          "scatterpolar": [
           {
            "marker": {
             "colorbar": {
              "outlinewidth": 0,
              "ticks": ""
             }
            },
            "type": "scatterpolar"
           }
          ],
          "scatterpolargl": [
           {
            "marker": {
             "colorbar": {
              "outlinewidth": 0,
              "ticks": ""
             }
            },
            "type": "scatterpolargl"
           }
          ],
          "scatterternary": [
           {
            "marker": {
             "colorbar": {
              "outlinewidth": 0,
              "ticks": ""
             }
            },
            "type": "scatterternary"
           }
          ],
          "surface": [
           {
            "colorbar": {
             "outlinewidth": 0,
             "ticks": ""
            },
            "colorscale": [
             [
              0,
              "#0d0887"
             ],
             [
              0.1111111111111111,
              "#46039f"
             ],
             [
              0.2222222222222222,
              "#7201a8"
             ],
             [
              0.3333333333333333,
              "#9c179e"
             ],
             [
              0.4444444444444444,
              "#bd3786"
             ],
             [
              0.5555555555555556,
              "#d8576b"
             ],
             [
              0.6666666666666666,
              "#ed7953"
             ],
             [
              0.7777777777777778,
              "#fb9f3a"
             ],
             [
              0.8888888888888888,
              "#fdca26"
             ],
             [
              1,
              "#f0f921"
             ]
            ],
            "type": "surface"
           }
          ],
          "table": [
           {
            "cells": {
             "fill": {
              "color": "#EBF0F8"
             },
             "line": {
              "color": "white"
             }
            },
            "header": {
             "fill": {
              "color": "#C8D4E3"
             },
             "line": {
              "color": "white"
             }
            },
            "type": "table"
           }
          ]
         },
         "layout": {
          "annotationdefaults": {
           "arrowcolor": "#2a3f5f",
           "arrowhead": 0,
           "arrowwidth": 1
          },
          "autotypenumbers": "strict",
          "coloraxis": {
           "colorbar": {
            "outlinewidth": 0,
            "ticks": ""
           }
          },
          "colorscale": {
           "diverging": [
            [
             0,
             "#8e0152"
            ],
            [
             0.1,
             "#c51b7d"
            ],
            [
             0.2,
             "#de77ae"
            ],
            [
             0.3,
             "#f1b6da"
            ],
            [
             0.4,
             "#fde0ef"
            ],
            [
             0.5,
             "#f7f7f7"
            ],
            [
             0.6,
             "#e6f5d0"
            ],
            [
             0.7,
             "#b8e186"
            ],
            [
             0.8,
             "#7fbc41"
            ],
            [
             0.9,
             "#4d9221"
            ],
            [
             1,
             "#276419"
            ]
           ],
           "sequential": [
            [
             0,
             "#0d0887"
            ],
            [
             0.1111111111111111,
             "#46039f"
            ],
            [
             0.2222222222222222,
             "#7201a8"
            ],
            [
             0.3333333333333333,
             "#9c179e"
            ],
            [
             0.4444444444444444,
             "#bd3786"
            ],
            [
             0.5555555555555556,
             "#d8576b"
            ],
            [
             0.6666666666666666,
             "#ed7953"
            ],
            [
             0.7777777777777778,
             "#fb9f3a"
            ],
            [
             0.8888888888888888,
             "#fdca26"
            ],
            [
             1,
             "#f0f921"
            ]
           ],
           "sequentialminus": [
            [
             0,
             "#0d0887"
            ],
            [
             0.1111111111111111,
             "#46039f"
            ],
            [
             0.2222222222222222,
             "#7201a8"
            ],
            [
             0.3333333333333333,
             "#9c179e"
            ],
            [
             0.4444444444444444,
             "#bd3786"
            ],
            [
             0.5555555555555556,
             "#d8576b"
            ],
            [
             0.6666666666666666,
             "#ed7953"
            ],
            [
             0.7777777777777778,
             "#fb9f3a"
            ],
            [
             0.8888888888888888,
             "#fdca26"
            ],
            [
             1,
             "#f0f921"
            ]
           ]
          },
          "colorway": [
           "#636efa",
           "#EF553B",
           "#00cc96",
           "#ab63fa",
           "#FFA15A",
           "#19d3f3",
           "#FF6692",
           "#B6E880",
           "#FF97FF",
           "#FECB52"
          ],
          "font": {
           "color": "#2a3f5f"
          },
          "geo": {
           "bgcolor": "white",
           "lakecolor": "white",
           "landcolor": "#E5ECF6",
           "showlakes": true,
           "showland": true,
           "subunitcolor": "white"
          },
          "hoverlabel": {
           "align": "left"
          },
          "hovermode": "closest",
          "mapbox": {
           "style": "light"
          },
          "paper_bgcolor": "white",
          "plot_bgcolor": "#E5ECF6",
          "polar": {
           "angularaxis": {
            "gridcolor": "white",
            "linecolor": "white",
            "ticks": ""
           },
           "bgcolor": "#E5ECF6",
           "radialaxis": {
            "gridcolor": "white",
            "linecolor": "white",
            "ticks": ""
           }
          },
          "scene": {
           "xaxis": {
            "backgroundcolor": "#E5ECF6",
            "gridcolor": "white",
            "gridwidth": 2,
            "linecolor": "white",
            "showbackground": true,
            "ticks": "",
            "zerolinecolor": "white"
           },
           "yaxis": {
            "backgroundcolor": "#E5ECF6",
            "gridcolor": "white",
            "gridwidth": 2,
            "linecolor": "white",
            "showbackground": true,
            "ticks": "",
            "zerolinecolor": "white"
           },
           "zaxis": {
            "backgroundcolor": "#E5ECF6",
            "gridcolor": "white",
            "gridwidth": 2,
            "linecolor": "white",
            "showbackground": true,
            "ticks": "",
            "zerolinecolor": "white"
           }
          },
          "shapedefaults": {
           "line": {
            "color": "#2a3f5f"
           }
          },
          "ternary": {
           "aaxis": {
            "gridcolor": "white",
            "linecolor": "white",
            "ticks": ""
           },
           "baxis": {
            "gridcolor": "white",
            "linecolor": "white",
            "ticks": ""
           },
           "bgcolor": "#E5ECF6",
           "caxis": {
            "gridcolor": "white",
            "linecolor": "white",
            "ticks": ""
           }
          },
          "title": {
           "x": 0.05
          },
          "xaxis": {
           "automargin": true,
           "gridcolor": "white",
           "linecolor": "white",
           "ticks": "",
           "title": {
            "standoff": 15
           },
           "zerolinecolor": "white",
           "zerolinewidth": 2
          },
          "yaxis": {
           "automargin": true,
           "gridcolor": "white",
           "linecolor": "white",
           "ticks": "",
           "title": {
            "standoff": 15
           },
           "zerolinecolor": "white",
           "zerolinewidth": 2
          }
         }
        },
        "title": {
         "text": "Budget and Worldwide Box Office Sales ($)"
        },
        "xaxis": {
         "anchor": "y",
         "domain": [
          0,
          1
         ],
         "title": {
          "text": "Budget"
         }
        },
        "yaxis": {
         "anchor": "x",
         "domain": [
          0,
          1
         ],
         "title": {
          "text": "Worldwide"
         }
        }
       }
      },
      "text/html": [
       "<div>                            <div id=\"b3319a23-e031-4a24-9534-8d700ef6099d\" class=\"plotly-graph-div\" style=\"height:525px; width:100%;\"></div>            <script type=\"text/javascript\">                require([\"plotly\"], function(Plotly) {                    window.PLOTLYENV=window.PLOTLYENV || {};                                    if (document.getElementById(\"b3319a23-e031-4a24-9534-8d700ef6099d\")) {                    Plotly.newPlot(                        \"b3319a23-e031-4a24-9534-8d700ef6099d\",                        [{\"customdata\":[[\"1986\"]],\"hovertemplate\":\"<b>%{hovertext}</b><br><br>Title=Howard the Duck<br>Budget=%{x}<br>Worldwide=%{y}<br>Year=%{customdata[0]}<extra></extra>\",\"hovertext\":[\"Howard the Duck\"],\"legendgroup\":\"Howard the Duck\",\"marker\":{\"color\":\"#636efa\",\"symbol\":\"circle\"},\"mode\":\"markers\",\"name\":\"Howard the Duck\",\"orientation\":\"v\",\"showlegend\":true,\"x\":[37000000],\"xaxis\":\"x\",\"y\":[37962774],\"yaxis\":\"y\",\"type\":\"scatter\"},{\"customdata\":[[\"1998\"]],\"hovertemplate\":\"<b>%{hovertext}</b><br><br>Title=Blade<br>Budget=%{x}<br>Worldwide=%{y}<br>Year=%{customdata[0]}<extra></extra>\",\"hovertext\":[\"Blade\"],\"legendgroup\":\"Blade\",\"marker\":{\"color\":\"#EF553B\",\"symbol\":\"diamond\"},\"mode\":\"markers\",\"name\":\"Blade\",\"orientation\":\"v\",\"showlegend\":true,\"x\":[45000000],\"xaxis\":\"x\",\"y\":[131183530],\"yaxis\":\"y\",\"type\":\"scatter\"},{\"customdata\":[[\"2000\"]],\"hovertemplate\":\"<b>%{hovertext}</b><br><br>Title=X-Men<br>Budget=%{x}<br>Worldwide=%{y}<br>Year=%{customdata[0]}<extra></extra>\",\"hovertext\":[\"X-Men\"],\"legendgroup\":\"X-Men\",\"marker\":{\"color\":\"#00cc96\",\"symbol\":\"square\"},\"mode\":\"markers\",\"name\":\"X-Men\",\"orientation\":\"v\",\"showlegend\":true,\"x\":[75000000],\"xaxis\":\"x\",\"y\":[296339527],\"yaxis\":\"y\",\"type\":\"scatter\"},{\"customdata\":[[\"2002\"]],\"hovertemplate\":\"<b>%{hovertext}</b><br><br>Title=Blade II<br>Budget=%{x}<br>Worldwide=%{y}<br>Year=%{customdata[0]}<extra></extra>\",\"hovertext\":[\"Blade II\"],\"legendgroup\":\"Blade II\",\"marker\":{\"color\":\"#ab63fa\",\"symbol\":\"x\"},\"mode\":\"markers\",\"name\":\"Blade II\",\"orientation\":\"v\",\"showlegend\":true,\"x\":[54000000],\"xaxis\":\"x\",\"y\":[155010032],\"yaxis\":\"y\",\"type\":\"scatter\"},{\"customdata\":[[\"2002\"]],\"hovertemplate\":\"<b>%{hovertext}</b><br><br>Title=Spider-Man<br>Budget=%{x}<br>Worldwide=%{y}<br>Year=%{customdata[0]}<extra></extra>\",\"hovertext\":[\"Spider-Man\"],\"legendgroup\":\"Spider-Man\",\"marker\":{\"color\":\"#FFA15A\",\"symbol\":\"cross\"},\"mode\":\"markers\",\"name\":\"Spider-Man\",\"orientation\":\"v\",\"showlegend\":true,\"x\":[139000000],\"xaxis\":\"x\",\"y\":[821708551],\"yaxis\":\"y\",\"type\":\"scatter\"},{\"customdata\":[[\"2003\"]],\"hovertemplate\":\"<b>%{hovertext}</b><br><br>Title=Daredevil<br>Budget=%{x}<br>Worldwide=%{y}<br>Year=%{customdata[0]}<extra></extra>\",\"hovertext\":[\"Daredevil\"],\"legendgroup\":\"Daredevil\",\"marker\":{\"color\":\"#19d3f3\",\"symbol\":\"circle\"},\"mode\":\"markers\",\"name\":\"Daredevil\",\"orientation\":\"v\",\"showlegend\":true,\"x\":[78000000],\"xaxis\":\"x\",\"y\":[179179718],\"yaxis\":\"y\",\"type\":\"scatter\"},{\"customdata\":[[\"2003\"]],\"hovertemplate\":\"<b>%{hovertext}</b><br><br>Title=X2<br>Budget=%{x}<br>Worldwide=%{y}<br>Year=%{customdata[0]}<extra></extra>\",\"hovertext\":[\"X2\"],\"legendgroup\":\"X2\",\"marker\":{\"color\":\"#FF6692\",\"symbol\":\"diamond\"},\"mode\":\"markers\",\"name\":\"X2\",\"orientation\":\"v\",\"showlegend\":true,\"x\":[110000000],\"xaxis\":\"x\",\"y\":[407711549],\"yaxis\":\"y\",\"type\":\"scatter\"},{\"customdata\":[[\"2003\"]],\"hovertemplate\":\"<b>%{hovertext}</b><br><br>Title=Hulk<br>Budget=%{x}<br>Worldwide=%{y}<br>Year=%{customdata[0]}<extra></extra>\",\"hovertext\":[\"Hulk\"],\"legendgroup\":\"Hulk\",\"marker\":{\"color\":\"#B6E880\",\"symbol\":\"square\"},\"mode\":\"markers\",\"name\":\"Hulk\",\"orientation\":\"v\",\"showlegend\":true,\"x\":[137000000],\"xaxis\":\"x\",\"y\":[245360480],\"yaxis\":\"y\",\"type\":\"scatter\"},{\"customdata\":[[\"2004\"]],\"hovertemplate\":\"<b>%{hovertext}</b><br><br>Title=The Punisher<br>Budget=%{x}<br>Worldwide=%{y}<br>Year=%{customdata[0]}<extra></extra>\",\"hovertext\":[\"The Punisher\"],\"legendgroup\":\"The Punisher\",\"marker\":{\"color\":\"#FF97FF\",\"symbol\":\"x\"},\"mode\":\"markers\",\"name\":\"The Punisher\",\"orientation\":\"v\",\"showlegend\":true,\"x\":[33000000],\"xaxis\":\"x\",\"y\":[54700105],\"yaxis\":\"y\",\"type\":\"scatter\"},{\"customdata\":[[\"2004\"]],\"hovertemplate\":\"<b>%{hovertext}</b><br><br>Title=Spider-Man 2<br>Budget=%{x}<br>Worldwide=%{y}<br>Year=%{customdata[0]}<extra></extra>\",\"hovertext\":[\"Spider-Man 2\"],\"legendgroup\":\"Spider-Man 2\",\"marker\":{\"color\":\"#FECB52\",\"symbol\":\"cross\"},\"mode\":\"markers\",\"name\":\"Spider-Man 2\",\"orientation\":\"v\",\"showlegend\":true,\"x\":[200000000],\"xaxis\":\"x\",\"y\":[788976453],\"yaxis\":\"y\",\"type\":\"scatter\"},{\"customdata\":[[\"2004\"]],\"hovertemplate\":\"<b>%{hovertext}</b><br><br>Title=Blade: Trinity<br>Budget=%{x}<br>Worldwide=%{y}<br>Year=%{customdata[0]}<extra></extra>\",\"hovertext\":[\"Blade: Trinity\"],\"legendgroup\":\"Blade: Trinity\",\"marker\":{\"color\":\"#636efa\",\"symbol\":\"circle\"},\"mode\":\"markers\",\"name\":\"Blade: Trinity\",\"orientation\":\"v\",\"showlegend\":true,\"x\":[65000000],\"xaxis\":\"x\",\"y\":[128905366],\"yaxis\":\"y\",\"type\":\"scatter\"},{\"customdata\":[[\"2005\"]],\"hovertemplate\":\"<b>%{hovertext}</b><br><br>Title=Elektra<br>Budget=%{x}<br>Worldwide=%{y}<br>Year=%{customdata[0]}<extra></extra>\",\"hovertext\":[\"Elektra\"],\"legendgroup\":\"Elektra\",\"marker\":{\"color\":\"#EF553B\",\"symbol\":\"diamond\"},\"mode\":\"markers\",\"name\":\"Elektra\",\"orientation\":\"v\",\"showlegend\":true,\"x\":[43000000],\"xaxis\":\"x\",\"y\":[56681566],\"yaxis\":\"y\",\"type\":\"scatter\"},{\"customdata\":[[\"2005\"],[\"2015\"]],\"hovertemplate\":\"<b>%{hovertext}</b><br><br>Title=Fantastic Four<br>Budget=%{x}<br>Worldwide=%{y}<br>Year=%{customdata[0]}<extra></extra>\",\"hovertext\":[\"Fantastic Four\",\"Fantastic Four\"],\"legendgroup\":\"Fantastic Four\",\"marker\":{\"color\":\"#00cc96\",\"symbol\":\"square\"},\"mode\":\"markers\",\"name\":\"Fantastic Four\",\"orientation\":\"v\",\"showlegend\":true,\"x\":[100000000,120000000],\"xaxis\":\"x\",\"y\":[330579719,167882881],\"yaxis\":\"y\",\"type\":\"scatter\"},{\"customdata\":[[\"2006\"]],\"hovertemplate\":\"<b>%{hovertext}</b><br><br>Title=X-Men: The Last Stand<br>Budget=%{x}<br>Worldwide=%{y}<br>Year=%{customdata[0]}<extra></extra>\",\"hovertext\":[\"X-Men: The Last Stand\"],\"legendgroup\":\"X-Men: The Last Stand\",\"marker\":{\"color\":\"#ab63fa\",\"symbol\":\"x\"},\"mode\":\"markers\",\"name\":\"X-Men: The Last Stand\",\"orientation\":\"v\",\"showlegend\":true,\"x\":[210000000],\"xaxis\":\"x\",\"y\":[459359555],\"yaxis\":\"y\",\"type\":\"scatter\"},{\"customdata\":[[\"2007\"]],\"hovertemplate\":\"<b>%{hovertext}</b><br><br>Title=Ghost Rider<br>Budget=%{x}<br>Worldwide=%{y}<br>Year=%{customdata[0]}<extra></extra>\",\"hovertext\":[\"Ghost Rider\"],\"legendgroup\":\"Ghost Rider\",\"marker\":{\"color\":\"#FFA15A\",\"symbol\":\"cross\"},\"mode\":\"markers\",\"name\":\"Ghost Rider\",\"orientation\":\"v\",\"showlegend\":true,\"x\":[110000000],\"xaxis\":\"x\",\"y\":[228738393],\"yaxis\":\"y\",\"type\":\"scatter\"},{\"customdata\":[[\"2007\"]],\"hovertemplate\":\"<b>%{hovertext}</b><br><br>Title=Spider-Man 3<br>Budget=%{x}<br>Worldwide=%{y}<br>Year=%{customdata[0]}<extra></extra>\",\"hovertext\":[\"Spider-Man 3\"],\"legendgroup\":\"Spider-Man 3\",\"marker\":{\"color\":\"#19d3f3\",\"symbol\":\"circle\"},\"mode\":\"markers\",\"name\":\"Spider-Man 3\",\"orientation\":\"v\",\"showlegend\":true,\"x\":[258000000],\"xaxis\":\"x\",\"y\":[890871626],\"yaxis\":\"y\",\"type\":\"scatter\"},{\"customdata\":[[\"2007\"]],\"hovertemplate\":\"<b>%{hovertext}</b><br><br>Title=Fantastic Four: Rise of the Silver Surfer<br>Budget=%{x}<br>Worldwide=%{y}<br>Year=%{customdata[0]}<extra></extra>\",\"hovertext\":[\"Fantastic Four: Rise of the Silver Surfer\"],\"legendgroup\":\"Fantastic Four: Rise of the Silver Surfer\",\"marker\":{\"color\":\"#FF6692\",\"symbol\":\"diamond\"},\"mode\":\"markers\",\"name\":\"Fantastic Four: Rise of the Silver Surfer\",\"orientation\":\"v\",\"showlegend\":true,\"x\":[130000000],\"xaxis\":\"x\",\"y\":[301913131],\"yaxis\":\"y\",\"type\":\"scatter\"},{\"customdata\":[[\"2008\"]],\"hovertemplate\":\"<b>%{hovertext}</b><br><br>Title=Iron Man<br>Budget=%{x}<br>Worldwide=%{y}<br>Year=%{customdata[0]}<extra></extra>\",\"hovertext\":[\"Iron Man\"],\"legendgroup\":\"Iron Man\",\"marker\":{\"color\":\"#B6E880\",\"symbol\":\"square\"},\"mode\":\"markers\",\"name\":\"Iron Man\",\"orientation\":\"v\",\"showlegend\":true,\"x\":[140000000],\"xaxis\":\"x\",\"y\":[585174222],\"yaxis\":\"y\",\"type\":\"scatter\"},{\"customdata\":[[\"2008\"]],\"hovertemplate\":\"<b>%{hovertext}</b><br><br>Title=The Incredible Hulk<br>Budget=%{x}<br>Worldwide=%{y}<br>Year=%{customdata[0]}<extra></extra>\",\"hovertext\":[\"The Incredible Hulk\"],\"legendgroup\":\"The Incredible Hulk\",\"marker\":{\"color\":\"#FF97FF\",\"symbol\":\"x\"},\"mode\":\"markers\",\"name\":\"The Incredible Hulk\",\"orientation\":\"v\",\"showlegend\":true,\"x\":[150000000],\"xaxis\":\"x\",\"y\":[263427551],\"yaxis\":\"y\",\"type\":\"scatter\"},{\"customdata\":[[\"2008\"]],\"hovertemplate\":\"<b>%{hovertext}</b><br><br>Title=Punisher: War Zone<br>Budget=%{x}<br>Worldwide=%{y}<br>Year=%{customdata[0]}<extra></extra>\",\"hovertext\":[\"Punisher: War Zone\"],\"legendgroup\":\"Punisher: War Zone\",\"marker\":{\"color\":\"#FECB52\",\"symbol\":\"cross\"},\"mode\":\"markers\",\"name\":\"Punisher: War Zone\",\"orientation\":\"v\",\"showlegend\":true,\"x\":[35000000],\"xaxis\":\"x\",\"y\":[10100036],\"yaxis\":\"y\",\"type\":\"scatter\"},{\"customdata\":[[\"2009\"]],\"hovertemplate\":\"<b>%{hovertext}</b><br><br>Title=X-Men Origins: Wolverine<br>Budget=%{x}<br>Worldwide=%{y}<br>Year=%{customdata[0]}<extra></extra>\",\"hovertext\":[\"X-Men Origins: Wolverine\"],\"legendgroup\":\"X-Men Origins: Wolverine\",\"marker\":{\"color\":\"#636efa\",\"symbol\":\"circle\"},\"mode\":\"markers\",\"name\":\"X-Men Origins: Wolverine\",\"orientation\":\"v\",\"showlegend\":true,\"x\":[150000000],\"xaxis\":\"x\",\"y\":[373062864],\"yaxis\":\"y\",\"type\":\"scatter\"},{\"customdata\":[[\"2010\"]],\"hovertemplate\":\"<b>%{hovertext}</b><br><br>Title=Iron Man 2<br>Budget=%{x}<br>Worldwide=%{y}<br>Year=%{customdata[0]}<extra></extra>\",\"hovertext\":[\"Iron Man 2\"],\"legendgroup\":\"Iron Man 2\",\"marker\":{\"color\":\"#EF553B\",\"symbol\":\"diamond\"},\"mode\":\"markers\",\"name\":\"Iron Man 2\",\"orientation\":\"v\",\"showlegend\":true,\"x\":[200000000],\"xaxis\":\"x\",\"y\":[623933331],\"yaxis\":\"y\",\"type\":\"scatter\"},{\"customdata\":[[\"2011\"]],\"hovertemplate\":\"<b>%{hovertext}</b><br><br>Title=Thor<br>Budget=%{x}<br>Worldwide=%{y}<br>Year=%{customdata[0]}<extra></extra>\",\"hovertext\":[\"Thor\"],\"legendgroup\":\"Thor\",\"marker\":{\"color\":\"#00cc96\",\"symbol\":\"square\"},\"mode\":\"markers\",\"name\":\"Thor\",\"orientation\":\"v\",\"showlegend\":true,\"x\":[150000000],\"xaxis\":\"x\",\"y\":[449326618],\"yaxis\":\"y\",\"type\":\"scatter\"},{\"customdata\":[[\"2011\"]],\"hovertemplate\":\"<b>%{hovertext}</b><br><br>Title=X-Men: First Class<br>Budget=%{x}<br>Worldwide=%{y}<br>Year=%{customdata[0]}<extra></extra>\",\"hovertext\":[\"X-Men: First Class\"],\"legendgroup\":\"X-Men: First Class\",\"marker\":{\"color\":\"#ab63fa\",\"symbol\":\"x\"},\"mode\":\"markers\",\"name\":\"X-Men: First Class\",\"orientation\":\"v\",\"showlegend\":true,\"x\":[160000000],\"xaxis\":\"x\",\"y\":[353624124],\"yaxis\":\"y\",\"type\":\"scatter\"},{\"customdata\":[[\"2011\"]],\"hovertemplate\":\"<b>%{hovertext}</b><br><br>Title=Captain America: The First Avenger<br>Budget=%{x}<br>Worldwide=%{y}<br>Year=%{customdata[0]}<extra></extra>\",\"hovertext\":[\"Captain America: The First Avenger\"],\"legendgroup\":\"Captain America: The First Avenger\",\"marker\":{\"color\":\"#FFA15A\",\"symbol\":\"cross\"},\"mode\":\"markers\",\"name\":\"Captain America: The First Avenger\",\"orientation\":\"v\",\"showlegend\":true,\"x\":[140000000],\"xaxis\":\"x\",\"y\":[370569774],\"yaxis\":\"y\",\"type\":\"scatter\"},{\"customdata\":[[\"2012\"]],\"hovertemplate\":\"<b>%{hovertext}</b><br><br>Title=Ghost Rider: Spirit of Vengeance<br>Budget=%{x}<br>Worldwide=%{y}<br>Year=%{customdata[0]}<extra></extra>\",\"hovertext\":[\"Ghost Rider: Spirit of Vengeance\"],\"legendgroup\":\"Ghost Rider: Spirit of Vengeance\",\"marker\":{\"color\":\"#19d3f3\",\"symbol\":\"circle\"},\"mode\":\"markers\",\"name\":\"Ghost Rider: Spirit of Vengeance\",\"orientation\":\"v\",\"showlegend\":true,\"x\":[57000000],\"xaxis\":\"x\",\"y\":[132563930],\"yaxis\":\"y\",\"type\":\"scatter\"},{\"customdata\":[[\"2012\"]],\"hovertemplate\":\"<b>%{hovertext}</b><br><br>Title=The Avengers<br>Budget=%{x}<br>Worldwide=%{y}<br>Year=%{customdata[0]}<extra></extra>\",\"hovertext\":[\"The Avengers\"],\"legendgroup\":\"The Avengers\",\"marker\":{\"color\":\"#FF6692\",\"symbol\":\"diamond\"},\"mode\":\"markers\",\"name\":\"The Avengers\",\"orientation\":\"v\",\"showlegend\":true,\"x\":[220000000],\"xaxis\":\"x\",\"y\":[1518812988],\"yaxis\":\"y\",\"type\":\"scatter\"},{\"customdata\":[[\"2012\"]],\"hovertemplate\":\"<b>%{hovertext}</b><br><br>Title=The Amazing Spider-Man<br>Budget=%{x}<br>Worldwide=%{y}<br>Year=%{customdata[0]}<extra></extra>\",\"hovertext\":[\"The Amazing Spider-Man\"],\"legendgroup\":\"The Amazing Spider-Man\",\"marker\":{\"color\":\"#B6E880\",\"symbol\":\"square\"},\"mode\":\"markers\",\"name\":\"The Amazing Spider-Man\",\"orientation\":\"v\",\"showlegend\":true,\"x\":[230000000],\"xaxis\":\"x\",\"y\":[757930663],\"yaxis\":\"y\",\"type\":\"scatter\"},{\"customdata\":[[\"2013\"]],\"hovertemplate\":\"<b>%{hovertext}</b><br><br>Title=Iron Man 3<br>Budget=%{x}<br>Worldwide=%{y}<br>Year=%{customdata[0]}<extra></extra>\",\"hovertext\":[\"Iron Man 3\"],\"legendgroup\":\"Iron Man 3\",\"marker\":{\"color\":\"#FF97FF\",\"symbol\":\"x\"},\"mode\":\"markers\",\"name\":\"Iron Man 3\",\"orientation\":\"v\",\"showlegend\":true,\"x\":[200000000],\"xaxis\":\"x\",\"y\":[1214811252],\"yaxis\":\"y\",\"type\":\"scatter\"},{\"customdata\":[[\"2013\"]],\"hovertemplate\":\"<b>%{hovertext}</b><br><br>Title=The Wolverine<br>Budget=%{x}<br>Worldwide=%{y}<br>Year=%{customdata[0]}<extra></extra>\",\"hovertext\":[\"The Wolverine\"],\"legendgroup\":\"The Wolverine\",\"marker\":{\"color\":\"#FECB52\",\"symbol\":\"cross\"},\"mode\":\"markers\",\"name\":\"The Wolverine\",\"orientation\":\"v\",\"showlegend\":true,\"x\":[120000000],\"xaxis\":\"x\",\"y\":[414828246],\"yaxis\":\"y\",\"type\":\"scatter\"},{\"customdata\":[[\"2013\"]],\"hovertemplate\":\"<b>%{hovertext}</b><br><br>Title=Thor: The Dark World<br>Budget=%{x}<br>Worldwide=%{y}<br>Year=%{customdata[0]}<extra></extra>\",\"hovertext\":[\"Thor: The Dark World\"],\"legendgroup\":\"Thor: The Dark World\",\"marker\":{\"color\":\"#636efa\",\"symbol\":\"circle\"},\"mode\":\"markers\",\"name\":\"Thor: The Dark World\",\"orientation\":\"v\",\"showlegend\":true,\"x\":[170000000],\"xaxis\":\"x\",\"y\":[644571402],\"yaxis\":\"y\",\"type\":\"scatter\"},{\"customdata\":[[\"2014\"]],\"hovertemplate\":\"<b>%{hovertext}</b><br><br>Title=Captain America: The Winter Soldier<br>Budget=%{x}<br>Worldwide=%{y}<br>Year=%{customdata[0]}<extra></extra>\",\"hovertext\":[\"Captain America: The Winter Soldier\"],\"legendgroup\":\"Captain America: The Winter Soldier\",\"marker\":{\"color\":\"#EF553B\",\"symbol\":\"diamond\"},\"mode\":\"markers\",\"name\":\"Captain America: The Winter Soldier\",\"orientation\":\"v\",\"showlegend\":true,\"x\":[170000000],\"xaxis\":\"x\",\"y\":[714264267],\"yaxis\":\"y\",\"type\":\"scatter\"},{\"customdata\":[[\"2014\"]],\"hovertemplate\":\"<b>%{hovertext}</b><br><br>Title=The Amazing Spider-Man 2<br>Budget=%{x}<br>Worldwide=%{y}<br>Year=%{customdata[0]}<extra></extra>\",\"hovertext\":[\"The Amazing Spider-Man 2\"],\"legendgroup\":\"The Amazing Spider-Man 2\",\"marker\":{\"color\":\"#00cc96\",\"symbol\":\"square\"},\"mode\":\"markers\",\"name\":\"The Amazing Spider-Man 2\",\"orientation\":\"v\",\"showlegend\":true,\"x\":[255000000],\"xaxis\":\"x\",\"y\":[708982323],\"yaxis\":\"y\",\"type\":\"scatter\"},{\"customdata\":[[\"2014\"]],\"hovertemplate\":\"<b>%{hovertext}</b><br><br>Title=X-Men: Days of Future Past<br>Budget=%{x}<br>Worldwide=%{y}<br>Year=%{customdata[0]}<extra></extra>\",\"hovertext\":[\"X-Men: Days of Future Past\"],\"legendgroup\":\"X-Men: Days of Future Past\",\"marker\":{\"color\":\"#ab63fa\",\"symbol\":\"x\"},\"mode\":\"markers\",\"name\":\"X-Men: Days of Future Past\",\"orientation\":\"v\",\"showlegend\":true,\"x\":[200000000],\"xaxis\":\"x\",\"y\":[747862775],\"yaxis\":\"y\",\"type\":\"scatter\"},{\"customdata\":[[\"2014\"]],\"hovertemplate\":\"<b>%{hovertext}</b><br><br>Title=Guardians of the Galaxy<br>Budget=%{x}<br>Worldwide=%{y}<br>Year=%{customdata[0]}<extra></extra>\",\"hovertext\":[\"Guardians of the Galaxy\"],\"legendgroup\":\"Guardians of the Galaxy\",\"marker\":{\"color\":\"#FFA15A\",\"symbol\":\"cross\"},\"mode\":\"markers\",\"name\":\"Guardians of the Galaxy\",\"orientation\":\"v\",\"showlegend\":true,\"x\":[170000000],\"xaxis\":\"x\",\"y\":[773328629],\"yaxis\":\"y\",\"type\":\"scatter\"},{\"customdata\":[[\"2014\"]],\"hovertemplate\":\"<b>%{hovertext}</b><br><br>Title=Big Hero 6<br>Budget=%{x}<br>Worldwide=%{y}<br>Year=%{customdata[0]}<extra></extra>\",\"hovertext\":[\"Big Hero 6\"],\"legendgroup\":\"Big Hero 6\",\"marker\":{\"color\":\"#19d3f3\",\"symbol\":\"circle\"},\"mode\":\"markers\",\"name\":\"Big Hero 6\",\"orientation\":\"v\",\"showlegend\":true,\"x\":[165000000],\"xaxis\":\"x\",\"y\":[657827828],\"yaxis\":\"y\",\"type\":\"scatter\"},{\"customdata\":[[\"2015\"]],\"hovertemplate\":\"<b>%{hovertext}</b><br><br>Title=Avengers: Age of Ultron<br>Budget=%{x}<br>Worldwide=%{y}<br>Year=%{customdata[0]}<extra></extra>\",\"hovertext\":[\"Avengers: Age of Ultron\"],\"legendgroup\":\"Avengers: Age of Ultron\",\"marker\":{\"color\":\"#FF6692\",\"symbol\":\"diamond\"},\"mode\":\"markers\",\"name\":\"Avengers: Age of Ultron\",\"orientation\":\"v\",\"showlegend\":true,\"x\":[250000000],\"xaxis\":\"x\",\"y\":[1405403694],\"yaxis\":\"y\",\"type\":\"scatter\"},{\"customdata\":[[\"2015\"]],\"hovertemplate\":\"<b>%{hovertext}</b><br><br>Title=Ant-Man<br>Budget=%{x}<br>Worldwide=%{y}<br>Year=%{customdata[0]}<extra></extra>\",\"hovertext\":[\"Ant-Man\"],\"legendgroup\":\"Ant-Man\",\"marker\":{\"color\":\"#B6E880\",\"symbol\":\"square\"},\"mode\":\"markers\",\"name\":\"Ant-Man\",\"orientation\":\"v\",\"showlegend\":true,\"x\":[130000000],\"xaxis\":\"x\",\"y\":[519311965],\"yaxis\":\"y\",\"type\":\"scatter\"},{\"customdata\":[[\"2016\"]],\"hovertemplate\":\"<b>%{hovertext}</b><br><br>Title=Deadpool<br>Budget=%{x}<br>Worldwide=%{y}<br>Year=%{customdata[0]}<extra></extra>\",\"hovertext\":[\"Deadpool\"],\"legendgroup\":\"Deadpool\",\"marker\":{\"color\":\"#FF97FF\",\"symbol\":\"x\"},\"mode\":\"markers\",\"name\":\"Deadpool\",\"orientation\":\"v\",\"showlegend\":true,\"x\":[58000000],\"xaxis\":\"x\",\"y\":[783112979],\"yaxis\":\"y\",\"type\":\"scatter\"},{\"customdata\":[[\"2016\"]],\"hovertemplate\":\"<b>%{hovertext}</b><br><br>Title=Captain America: Civil War<br>Budget=%{x}<br>Worldwide=%{y}<br>Year=%{customdata[0]}<extra></extra>\",\"hovertext\":[\"Captain America: Civil War\"],\"legendgroup\":\"Captain America: Civil War\",\"marker\":{\"color\":\"#FECB52\",\"symbol\":\"cross\"},\"mode\":\"markers\",\"name\":\"Captain America: Civil War\",\"orientation\":\"v\",\"showlegend\":true,\"x\":[250000000],\"xaxis\":\"x\",\"y\":[1153304495],\"yaxis\":\"y\",\"type\":\"scatter\"},{\"customdata\":[[\"2016\"]],\"hovertemplate\":\"<b>%{hovertext}</b><br><br>Title=X-Men: Apocalypse<br>Budget=%{x}<br>Worldwide=%{y}<br>Year=%{customdata[0]}<extra></extra>\",\"hovertext\":[\"X-Men: Apocalypse\"],\"legendgroup\":\"X-Men: Apocalypse\",\"marker\":{\"color\":\"#636efa\",\"symbol\":\"circle\"},\"mode\":\"markers\",\"name\":\"X-Men: Apocalypse\",\"orientation\":\"v\",\"showlegend\":true,\"x\":[178000000],\"xaxis\":\"x\",\"y\":[543934105],\"yaxis\":\"y\",\"type\":\"scatter\"},{\"customdata\":[[\"2016\"]],\"hovertemplate\":\"<b>%{hovertext}</b><br><br>Title=Doctor Strange<br>Budget=%{x}<br>Worldwide=%{y}<br>Year=%{customdata[0]}<extra></extra>\",\"hovertext\":[\"Doctor Strange\"],\"legendgroup\":\"Doctor Strange\",\"marker\":{\"color\":\"#EF553B\",\"symbol\":\"diamond\"},\"mode\":\"markers\",\"name\":\"Doctor Strange\",\"orientation\":\"v\",\"showlegend\":true,\"x\":[165000000],\"xaxis\":\"x\",\"y\":[677718395],\"yaxis\":\"y\",\"type\":\"scatter\"},{\"customdata\":[[\"2017\"]],\"hovertemplate\":\"<b>%{hovertext}</b><br><br>Title=Logan<br>Budget=%{x}<br>Worldwide=%{y}<br>Year=%{customdata[0]}<extra></extra>\",\"hovertext\":[\"Logan\"],\"legendgroup\":\"Logan\",\"marker\":{\"color\":\"#00cc96\",\"symbol\":\"square\"},\"mode\":\"markers\",\"name\":\"Logan\",\"orientation\":\"v\",\"showlegend\":true,\"x\":[97000000],\"xaxis\":\"x\",\"y\":[616795600],\"yaxis\":\"y\",\"type\":\"scatter\"},{\"customdata\":[[\"2017\"]],\"hovertemplate\":\"<b>%{hovertext}</b><br><br>Title=Guardians of the Galaxy Vol. 2<br>Budget=%{x}<br>Worldwide=%{y}<br>Year=%{customdata[0]}<extra></extra>\",\"hovertext\":[\"Guardians of the Galaxy Vol. 2\"],\"legendgroup\":\"Guardians of the Galaxy Vol. 2\",\"marker\":{\"color\":\"#ab63fa\",\"symbol\":\"x\"},\"mode\":\"markers\",\"name\":\"Guardians of the Galaxy Vol. 2\",\"orientation\":\"v\",\"showlegend\":true,\"x\":[200000000],\"xaxis\":\"x\",\"y\":[863756051],\"yaxis\":\"y\",\"type\":\"scatter\"},{\"customdata\":[[\"2017\"]],\"hovertemplate\":\"<b>%{hovertext}</b><br><br>Title=Spider-Man: Homecoming<br>Budget=%{x}<br>Worldwide=%{y}<br>Year=%{customdata[0]}<extra></extra>\",\"hovertext\":[\"Spider-Man: Homecoming\"],\"legendgroup\":\"Spider-Man: Homecoming\",\"marker\":{\"color\":\"#FFA15A\",\"symbol\":\"cross\"},\"mode\":\"markers\",\"name\":\"Spider-Man: Homecoming\",\"orientation\":\"v\",\"showlegend\":true,\"x\":[175000000],\"xaxis\":\"x\",\"y\":[880166924],\"yaxis\":\"y\",\"type\":\"scatter\"},{\"customdata\":[[\"2017\"]],\"hovertemplate\":\"<b>%{hovertext}</b><br><br>Title=Inhumans<br>Budget=%{x}<br>Worldwide=%{y}<br>Year=%{customdata[0]}<extra></extra>\",\"hovertext\":[\"Inhumans\"],\"legendgroup\":\"Inhumans\",\"marker\":{\"color\":\"#19d3f3\",\"symbol\":\"circle\"},\"mode\":\"markers\",\"name\":\"Inhumans\",\"orientation\":\"v\",\"showlegend\":true,\"x\":[0],\"xaxis\":\"x\",\"y\":[2852282],\"yaxis\":\"y\",\"type\":\"scatter\"},{\"customdata\":[[\"2017\"]],\"hovertemplate\":\"<b>%{hovertext}</b><br><br>Title=Thor: Ragnarok<br>Budget=%{x}<br>Worldwide=%{y}<br>Year=%{customdata[0]}<extra></extra>\",\"hovertext\":[\"Thor: Ragnarok\"],\"legendgroup\":\"Thor: Ragnarok\",\"marker\":{\"color\":\"#FF6692\",\"symbol\":\"diamond\"},\"mode\":\"markers\",\"name\":\"Thor: Ragnarok\",\"orientation\":\"v\",\"showlegend\":true,\"x\":[180000000],\"xaxis\":\"x\",\"y\":[853977126],\"yaxis\":\"y\",\"type\":\"scatter\"},{\"customdata\":[[\"2018\"]],\"hovertemplate\":\"<b>%{hovertext}</b><br><br>Title=Black Panther<br>Budget=%{x}<br>Worldwide=%{y}<br>Year=%{customdata[0]}<extra></extra>\",\"hovertext\":[\"Black Panther\"],\"legendgroup\":\"Black Panther\",\"marker\":{\"color\":\"#B6E880\",\"symbol\":\"square\"},\"mode\":\"markers\",\"name\":\"Black Panther\",\"orientation\":\"v\",\"showlegend\":true,\"x\":[200000000],\"xaxis\":\"x\",\"y\":[1346913161],\"yaxis\":\"y\",\"type\":\"scatter\"},{\"customdata\":[[\"2018\"]],\"hovertemplate\":\"<b>%{hovertext}</b><br><br>Title=Avengers: Infinity War<br>Budget=%{x}<br>Worldwide=%{y}<br>Year=%{customdata[0]}<extra></extra>\",\"hovertext\":[\"Avengers: Infinity War\"],\"legendgroup\":\"Avengers: Infinity War\",\"marker\":{\"color\":\"#FF97FF\",\"symbol\":\"x\"},\"mode\":\"markers\",\"name\":\"Avengers: Infinity War\",\"orientation\":\"v\",\"showlegend\":true,\"x\":[316000000],\"xaxis\":\"x\",\"y\":[2048359754],\"yaxis\":\"y\",\"type\":\"scatter\"},{\"customdata\":[[\"2018\"]],\"hovertemplate\":\"<b>%{hovertext}</b><br><br>Title=Deadpool 2<br>Budget=%{x}<br>Worldwide=%{y}<br>Year=%{customdata[0]}<extra></extra>\",\"hovertext\":[\"Deadpool 2\"],\"legendgroup\":\"Deadpool 2\",\"marker\":{\"color\":\"#FECB52\",\"symbol\":\"cross\"},\"mode\":\"markers\",\"name\":\"Deadpool 2\",\"orientation\":\"v\",\"showlegend\":true,\"x\":[110000000],\"xaxis\":\"x\",\"y\":[785046920],\"yaxis\":\"y\",\"type\":\"scatter\"},{\"customdata\":[[\"2018\"]],\"hovertemplate\":\"<b>%{hovertext}</b><br><br>Title=Ant-Man and the Wasp<br>Budget=%{x}<br>Worldwide=%{y}<br>Year=%{customdata[0]}<extra></extra>\",\"hovertext\":[\"Ant-Man and the Wasp\"],\"legendgroup\":\"Ant-Man and the Wasp\",\"marker\":{\"color\":\"#636efa\",\"symbol\":\"circle\"},\"mode\":\"markers\",\"name\":\"Ant-Man and the Wasp\",\"orientation\":\"v\",\"showlegend\":true,\"x\":[162000000],\"xaxis\":\"x\",\"y\":[622674139],\"yaxis\":\"y\",\"type\":\"scatter\"},{\"customdata\":[[\"2018\"]],\"hovertemplate\":\"<b>%{hovertext}</b><br><br>Title=Venom<br>Budget=%{x}<br>Worldwide=%{y}<br>Year=%{customdata[0]}<extra></extra>\",\"hovertext\":[\"Venom\"],\"legendgroup\":\"Venom\",\"marker\":{\"color\":\"#EF553B\",\"symbol\":\"diamond\"},\"mode\":\"markers\",\"name\":\"Venom\",\"orientation\":\"v\",\"showlegend\":true,\"x\":[100000000],\"xaxis\":\"x\",\"y\":[855013954],\"yaxis\":\"y\",\"type\":\"scatter\"},{\"customdata\":[[\"2018\"]],\"hovertemplate\":\"<b>%{hovertext}</b><br><br>Title=Spider-Man: Into the Spider-Verse<br>Budget=%{x}<br>Worldwide=%{y}<br>Year=%{customdata[0]}<extra></extra>\",\"hovertext\":[\"Spider-Man: Into the Spider-Verse\"],\"legendgroup\":\"Spider-Man: Into the Spider-Verse\",\"marker\":{\"color\":\"#00cc96\",\"symbol\":\"square\"},\"mode\":\"markers\",\"name\":\"Spider-Man: Into the Spider-Verse\",\"orientation\":\"v\",\"showlegend\":true,\"x\":[90000000],\"xaxis\":\"x\",\"y\":[375540831],\"yaxis\":\"y\",\"type\":\"scatter\"},{\"customdata\":[[\"2019\"]],\"hovertemplate\":\"<b>%{hovertext}</b><br><br>Title=Captain Marvel<br>Budget=%{x}<br>Worldwide=%{y}<br>Year=%{customdata[0]}<extra></extra>\",\"hovertext\":[\"Captain Marvel\"],\"legendgroup\":\"Captain Marvel\",\"marker\":{\"color\":\"#ab63fa\",\"symbol\":\"x\"},\"mode\":\"markers\",\"name\":\"Captain Marvel\",\"orientation\":\"v\",\"showlegend\":true,\"x\":[152000000],\"xaxis\":\"x\",\"y\":[1128274794],\"yaxis\":\"y\",\"type\":\"scatter\"},{\"customdata\":[[\"2019\"]],\"hovertemplate\":\"<b>%{hovertext}</b><br><br>Title=Avengers: Endgame<br>Budget=%{x}<br>Worldwide=%{y}<br>Year=%{customdata[0]}<extra></extra>\",\"hovertext\":[\"Avengers: Endgame\"],\"legendgroup\":\"Avengers: Endgame\",\"marker\":{\"color\":\"#FFA15A\",\"symbol\":\"cross\"},\"mode\":\"markers\",\"name\":\"Avengers: Endgame\",\"orientation\":\"v\",\"showlegend\":true,\"x\":[356000000],\"xaxis\":\"x\",\"y\":[2797800564],\"yaxis\":\"y\",\"type\":\"scatter\"},{\"customdata\":[[\"2019\"]],\"hovertemplate\":\"<b>%{hovertext}</b><br><br>Title=Dark Phoenix<br>Budget=%{x}<br>Worldwide=%{y}<br>Year=%{customdata[0]}<extra></extra>\",\"hovertext\":[\"Dark Phoenix\"],\"legendgroup\":\"Dark Phoenix\",\"marker\":{\"color\":\"#19d3f3\",\"symbol\":\"circle\"},\"mode\":\"markers\",\"name\":\"Dark Phoenix\",\"orientation\":\"v\",\"showlegend\":true,\"x\":[200000000],\"xaxis\":\"x\",\"y\":[252442974],\"yaxis\":\"y\",\"type\":\"scatter\"},{\"customdata\":[[\"2019\"]],\"hovertemplate\":\"<b>%{hovertext}</b><br><br>Title=Spider-Man: Far From Home<br>Budget=%{x}<br>Worldwide=%{y}<br>Year=%{customdata[0]}<extra></extra>\",\"hovertext\":[\"Spider-Man: Far From Home\"],\"legendgroup\":\"Spider-Man: Far From Home\",\"marker\":{\"color\":\"#FF6692\",\"symbol\":\"diamond\"},\"mode\":\"markers\",\"name\":\"Spider-Man: Far From Home\",\"orientation\":\"v\",\"showlegend\":true,\"x\":[160000000],\"xaxis\":\"x\",\"y\":[1131927996],\"yaxis\":\"y\",\"type\":\"scatter\"},{\"customdata\":[[\"2020\"]],\"hovertemplate\":\"<b>%{hovertext}</b><br><br>Title=The New Mutants<br>Budget=%{x}<br>Worldwide=%{y}<br>Year=%{customdata[0]}<extra></extra>\",\"hovertext\":[\"The New Mutants\"],\"legendgroup\":\"The New Mutants\",\"marker\":{\"color\":\"#B6E880\",\"symbol\":\"square\"},\"mode\":\"markers\",\"name\":\"The New Mutants\",\"orientation\":\"v\",\"showlegend\":true,\"x\":[67000000],\"xaxis\":\"x\",\"y\":[48675066],\"yaxis\":\"y\",\"type\":\"scatter\"},{\"customdata\":[[\"2021\"]],\"hovertemplate\":\"<b>%{hovertext}</b><br><br>Title=Black Widow<br>Budget=%{x}<br>Worldwide=%{y}<br>Year=%{customdata[0]}<extra></extra>\",\"hovertext\":[\"Black Widow\"],\"legendgroup\":\"Black Widow\",\"marker\":{\"color\":\"#FF97FF\",\"symbol\":\"x\"},\"mode\":\"markers\",\"name\":\"Black Widow\",\"orientation\":\"v\",\"showlegend\":true,\"x\":[200000000],\"xaxis\":\"x\",\"y\":[379631351],\"yaxis\":\"y\",\"type\":\"scatter\"},{\"customdata\":[[\"2021\"]],\"hovertemplate\":\"<b>%{hovertext}</b><br><br>Title=Shang-Chi and the Legend of the Ten Rings<br>Budget=%{x}<br>Worldwide=%{y}<br>Year=%{customdata[0]}<extra></extra>\",\"hovertext\":[\"Shang-Chi and the Legend of the Ten Rings\"],\"legendgroup\":\"Shang-Chi and the Legend of the Ten Rings\",\"marker\":{\"color\":\"#FECB52\",\"symbol\":\"cross\"},\"mode\":\"markers\",\"name\":\"Shang-Chi and the Legend of the Ten Rings\",\"orientation\":\"v\",\"showlegend\":true,\"x\":[150000000],\"xaxis\":\"x\",\"y\":[432243292],\"yaxis\":\"y\",\"type\":\"scatter\"},{\"customdata\":[[\"2021\"]],\"hovertemplate\":\"<b>%{hovertext}</b><br><br>Title=Venom: Let There Be Carnage<br>Budget=%{x}<br>Worldwide=%{y}<br>Year=%{customdata[0]}<extra></extra>\",\"hovertext\":[\"Venom: Let There Be Carnage\"],\"legendgroup\":\"Venom: Let There Be Carnage\",\"marker\":{\"color\":\"#636efa\",\"symbol\":\"circle\"},\"mode\":\"markers\",\"name\":\"Venom: Let There Be Carnage\",\"orientation\":\"v\",\"showlegend\":true,\"x\":[110000000],\"xaxis\":\"x\",\"y\":[502050366],\"yaxis\":\"y\",\"type\":\"scatter\"},{\"customdata\":[[\"2021\"]],\"hovertemplate\":\"<b>%{hovertext}</b><br><br>Title=Eternals<br>Budget=%{x}<br>Worldwide=%{y}<br>Year=%{customdata[0]}<extra></extra>\",\"hovertext\":[\"Eternals\"],\"legendgroup\":\"Eternals\",\"marker\":{\"color\":\"#EF553B\",\"symbol\":\"diamond\"},\"mode\":\"markers\",\"name\":\"Eternals\",\"orientation\":\"v\",\"showlegend\":true,\"x\":[200000000],\"xaxis\":\"x\",\"y\":[402064899],\"yaxis\":\"y\",\"type\":\"scatter\"},{\"customdata\":[[\"2021\"]],\"hovertemplate\":\"<b>%{hovertext}</b><br><br>Title=Spider-Man: No Way Home<br>Budget=%{x}<br>Worldwide=%{y}<br>Year=%{customdata[0]}<extra></extra>\",\"hovertext\":[\"Spider-Man: No Way Home\"],\"legendgroup\":\"Spider-Man: No Way Home\",\"marker\":{\"color\":\"#00cc96\",\"symbol\":\"square\"},\"mode\":\"markers\",\"name\":\"Spider-Man: No Way Home\",\"orientation\":\"v\",\"showlegend\":true,\"x\":[200000000],\"xaxis\":\"x\",\"y\":[1852418859],\"yaxis\":\"y\",\"type\":\"scatter\"},{\"line\":{\"shape\":\"hv\"},\"marker\":{\"color\":\"gold\"},\"name\":\"Shang Chi Budget\",\"x\":[150000000,150000000,150000000,150000000,150000000,150000000,150000000,150000000,150000000,150000000,150000000,150000000,150000000,150000000,150000000,150000000,150000000,150000000,150000000,150000000,150000000,150000000,150000000,150000000,150000000,150000000,150000000,150000000,150000000,150000000,150000000,150000000,150000000,150000000,150000000,150000000,150000000,150000000,150000000,150000000,150000000,150000000,150000000,150000000,150000000,150000000,150000000,150000000,150000000,150000000,150000000,150000000,150000000,150000000,150000000,150000000,150000000,150000000,150000000,150000000,150000000,150000000,150000000,150000000],\"y\":[37962774,131183530,296339527,155010032,821708551,179179718,407711549,245360480,54700105,788976453,128905366,56681566,330579719,459359555,228738393,890871626,301913131,585174222,263427551,10100036,373062864,623933331,449326618,353624124,370569774,132563930,1518812988,757930663,1214811252,414828246,644571402,714264267,708982323,747862775,773328629,657827828,1405403694,519311965,167882881,783112979,1153304495,543934105,677718395,616795600,863756051,880166924,2852282,853977126,1346913161,2048359754,785046920,622674139,855013954,375540831,1128274794,2797800564,252442974,1131927996,48675066,379631351,432243292,502050366,402064899,1852418859],\"type\":\"scatter\"},{\"line\":{\"shape\":\"hv\"},\"marker\":{\"color\":\"#83b44b\"},\"name\":\"Black Panther Budget\",\"x\":[200000000,200000000,200000000,200000000,200000000,200000000,200000000,200000000,200000000,200000000,200000000,200000000,200000000,200000000,200000000,200000000,200000000,200000000,200000000,200000000,200000000,200000000,200000000,200000000,200000000,200000000,200000000,200000000,200000000,200000000,200000000,200000000,200000000,200000000,200000000,200000000,200000000,200000000,200000000,200000000,200000000,200000000,200000000,200000000,200000000,200000000,200000000,200000000,200000000,200000000,200000000,200000000,200000000,200000000,200000000,200000000,200000000,200000000,200000000,200000000,200000000,200000000,200000000,200000000],\"y\":[37962774,131183530,296339527,155010032,821708551,179179718,407711549,245360480,54700105,788976453,128905366,56681566,330579719,459359555,228738393,890871626,301913131,585174222,263427551,10100036,373062864,623933331,449326618,353624124,370569774,132563930,1518812988,757930663,1214811252,414828246,644571402,714264267,708982323,747862775,773328629,657827828,1405403694,519311965,167882881,783112979,1153304495,543934105,677718395,616795600,863756051,880166924,2852282,853977126,1346913161,2048359754,785046920,622674139,855013954,375540831,1128274794,2797800564,252442974,1131927996,48675066,379631351,432243292,502050366,402064899,1852418859],\"type\":\"scatter\"},{\"line\":{\"shape\":\"hv\"},\"marker\":{\"color\":\"#03a9f4\"},\"name\":\"Big Hero Six Budget\",\"x\":[165000000,165000000,165000000,165000000,165000000,165000000,165000000,165000000,165000000,165000000,165000000,165000000,165000000,165000000,165000000,165000000,165000000,165000000,165000000,165000000,165000000,165000000,165000000,165000000,165000000,165000000,165000000,165000000,165000000,165000000,165000000,165000000,165000000,165000000,165000000,165000000,165000000,165000000,165000000,165000000,165000000,165000000,165000000,165000000,165000000,165000000,165000000,165000000,165000000,165000000,165000000,165000000,165000000,165000000,165000000,165000000,165000000,165000000,165000000,165000000,165000000,165000000,165000000,165000000],\"y\":[37962774,131183530,296339527,155010032,821708551,179179718,407711549,245360480,54700105,788976453,128905366,56681566,330579719,459359555,228738393,890871626,301913131,585174222,263427551,10100036,373062864,623933331,449326618,353624124,370569774,132563930,1518812988,757930663,1214811252,414828246,644571402,714264267,708982323,747862775,773328629,657827828,1405403694,519311965,167882881,783112979,1153304495,543934105,677718395,616795600,863756051,880166924,2852282,853977126,1346913161,2048359754,785046920,622674139,855013954,375540831,1128274794,2797800564,252442974,1131927996,48675066,379631351,432243292,502050366,402064899,1852418859],\"type\":\"scatter\"},{\"marker\":{\"color\":\"#FFA500\",\"size\":15,\"symbol\":\"star\"},\"mode\":\"markers\",\"name\":\"Shang Chi\",\"x\":[150000000],\"y\":[432243292],\"type\":\"scatter\"},{\"marker\":{\"color\":\"#378805\",\"size\":15,\"symbol\":\"star\"},\"mode\":\"markers\",\"name\":\"Black Panther\",\"x\":[200000000],\"y\":[1346913161],\"type\":\"scatter\"},{\"marker\":{\"color\":\"blue\",\"size\":15,\"symbol\":\"star\"},\"mode\":\"markers\",\"name\":\"Big Hero Six\",\"x\":[165000000],\"y\":[657827828],\"type\":\"scatter\"}],                        {\"template\":{\"data\":{\"bar\":[{\"error_x\":{\"color\":\"#2a3f5f\"},\"error_y\":{\"color\":\"#2a3f5f\"},\"marker\":{\"line\":{\"color\":\"#E5ECF6\",\"width\":0.5},\"pattern\":{\"fillmode\":\"overlay\",\"size\":10,\"solidity\":0.2}},\"type\":\"bar\"}],\"barpolar\":[{\"marker\":{\"line\":{\"color\":\"#E5ECF6\",\"width\":0.5},\"pattern\":{\"fillmode\":\"overlay\",\"size\":10,\"solidity\":0.2}},\"type\":\"barpolar\"}],\"carpet\":[{\"aaxis\":{\"endlinecolor\":\"#2a3f5f\",\"gridcolor\":\"white\",\"linecolor\":\"white\",\"minorgridcolor\":\"white\",\"startlinecolor\":\"#2a3f5f\"},\"baxis\":{\"endlinecolor\":\"#2a3f5f\",\"gridcolor\":\"white\",\"linecolor\":\"white\",\"minorgridcolor\":\"white\",\"startlinecolor\":\"#2a3f5f\"},\"type\":\"carpet\"}],\"choropleth\":[{\"colorbar\":{\"outlinewidth\":0,\"ticks\":\"\"},\"type\":\"choropleth\"}],\"contour\":[{\"colorbar\":{\"outlinewidth\":0,\"ticks\":\"\"},\"colorscale\":[[0.0,\"#0d0887\"],[0.1111111111111111,\"#46039f\"],[0.2222222222222222,\"#7201a8\"],[0.3333333333333333,\"#9c179e\"],[0.4444444444444444,\"#bd3786\"],[0.5555555555555556,\"#d8576b\"],[0.6666666666666666,\"#ed7953\"],[0.7777777777777778,\"#fb9f3a\"],[0.8888888888888888,\"#fdca26\"],[1.0,\"#f0f921\"]],\"type\":\"contour\"}],\"contourcarpet\":[{\"colorbar\":{\"outlinewidth\":0,\"ticks\":\"\"},\"type\":\"contourcarpet\"}],\"heatmap\":[{\"colorbar\":{\"outlinewidth\":0,\"ticks\":\"\"},\"colorscale\":[[0.0,\"#0d0887\"],[0.1111111111111111,\"#46039f\"],[0.2222222222222222,\"#7201a8\"],[0.3333333333333333,\"#9c179e\"],[0.4444444444444444,\"#bd3786\"],[0.5555555555555556,\"#d8576b\"],[0.6666666666666666,\"#ed7953\"],[0.7777777777777778,\"#fb9f3a\"],[0.8888888888888888,\"#fdca26\"],[1.0,\"#f0f921\"]],\"type\":\"heatmap\"}],\"heatmapgl\":[{\"colorbar\":{\"outlinewidth\":0,\"ticks\":\"\"},\"colorscale\":[[0.0,\"#0d0887\"],[0.1111111111111111,\"#46039f\"],[0.2222222222222222,\"#7201a8\"],[0.3333333333333333,\"#9c179e\"],[0.4444444444444444,\"#bd3786\"],[0.5555555555555556,\"#d8576b\"],[0.6666666666666666,\"#ed7953\"],[0.7777777777777778,\"#fb9f3a\"],[0.8888888888888888,\"#fdca26\"],[1.0,\"#f0f921\"]],\"type\":\"heatmapgl\"}],\"histogram\":[{\"marker\":{\"pattern\":{\"fillmode\":\"overlay\",\"size\":10,\"solidity\":0.2}},\"type\":\"histogram\"}],\"histogram2d\":[{\"colorbar\":{\"outlinewidth\":0,\"ticks\":\"\"},\"colorscale\":[[0.0,\"#0d0887\"],[0.1111111111111111,\"#46039f\"],[0.2222222222222222,\"#7201a8\"],[0.3333333333333333,\"#9c179e\"],[0.4444444444444444,\"#bd3786\"],[0.5555555555555556,\"#d8576b\"],[0.6666666666666666,\"#ed7953\"],[0.7777777777777778,\"#fb9f3a\"],[0.8888888888888888,\"#fdca26\"],[1.0,\"#f0f921\"]],\"type\":\"histogram2d\"}],\"histogram2dcontour\":[{\"colorbar\":{\"outlinewidth\":0,\"ticks\":\"\"},\"colorscale\":[[0.0,\"#0d0887\"],[0.1111111111111111,\"#46039f\"],[0.2222222222222222,\"#7201a8\"],[0.3333333333333333,\"#9c179e\"],[0.4444444444444444,\"#bd3786\"],[0.5555555555555556,\"#d8576b\"],[0.6666666666666666,\"#ed7953\"],[0.7777777777777778,\"#fb9f3a\"],[0.8888888888888888,\"#fdca26\"],[1.0,\"#f0f921\"]],\"type\":\"histogram2dcontour\"}],\"mesh3d\":[{\"colorbar\":{\"outlinewidth\":0,\"ticks\":\"\"},\"type\":\"mesh3d\"}],\"parcoords\":[{\"line\":{\"colorbar\":{\"outlinewidth\":0,\"ticks\":\"\"}},\"type\":\"parcoords\"}],\"pie\":[{\"automargin\":true,\"type\":\"pie\"}],\"scatter\":[{\"marker\":{\"colorbar\":{\"outlinewidth\":0,\"ticks\":\"\"}},\"type\":\"scatter\"}],\"scatter3d\":[{\"line\":{\"colorbar\":{\"outlinewidth\":0,\"ticks\":\"\"}},\"marker\":{\"colorbar\":{\"outlinewidth\":0,\"ticks\":\"\"}},\"type\":\"scatter3d\"}],\"scattercarpet\":[{\"marker\":{\"colorbar\":{\"outlinewidth\":0,\"ticks\":\"\"}},\"type\":\"scattercarpet\"}],\"scattergeo\":[{\"marker\":{\"colorbar\":{\"outlinewidth\":0,\"ticks\":\"\"}},\"type\":\"scattergeo\"}],\"scattergl\":[{\"marker\":{\"colorbar\":{\"outlinewidth\":0,\"ticks\":\"\"}},\"type\":\"scattergl\"}],\"scattermapbox\":[{\"marker\":{\"colorbar\":{\"outlinewidth\":0,\"ticks\":\"\"}},\"type\":\"scattermapbox\"}],\"scatterpolar\":[{\"marker\":{\"colorbar\":{\"outlinewidth\":0,\"ticks\":\"\"}},\"type\":\"scatterpolar\"}],\"scatterpolargl\":[{\"marker\":{\"colorbar\":{\"outlinewidth\":0,\"ticks\":\"\"}},\"type\":\"scatterpolargl\"}],\"scatterternary\":[{\"marker\":{\"colorbar\":{\"outlinewidth\":0,\"ticks\":\"\"}},\"type\":\"scatterternary\"}],\"surface\":[{\"colorbar\":{\"outlinewidth\":0,\"ticks\":\"\"},\"colorscale\":[[0.0,\"#0d0887\"],[0.1111111111111111,\"#46039f\"],[0.2222222222222222,\"#7201a8\"],[0.3333333333333333,\"#9c179e\"],[0.4444444444444444,\"#bd3786\"],[0.5555555555555556,\"#d8576b\"],[0.6666666666666666,\"#ed7953\"],[0.7777777777777778,\"#fb9f3a\"],[0.8888888888888888,\"#fdca26\"],[1.0,\"#f0f921\"]],\"type\":\"surface\"}],\"table\":[{\"cells\":{\"fill\":{\"color\":\"#EBF0F8\"},\"line\":{\"color\":\"white\"}},\"header\":{\"fill\":{\"color\":\"#C8D4E3\"},\"line\":{\"color\":\"white\"}},\"type\":\"table\"}]},\"layout\":{\"annotationdefaults\":{\"arrowcolor\":\"#2a3f5f\",\"arrowhead\":0,\"arrowwidth\":1},\"autotypenumbers\":\"strict\",\"coloraxis\":{\"colorbar\":{\"outlinewidth\":0,\"ticks\":\"\"}},\"colorscale\":{\"diverging\":[[0,\"#8e0152\"],[0.1,\"#c51b7d\"],[0.2,\"#de77ae\"],[0.3,\"#f1b6da\"],[0.4,\"#fde0ef\"],[0.5,\"#f7f7f7\"],[0.6,\"#e6f5d0\"],[0.7,\"#b8e186\"],[0.8,\"#7fbc41\"],[0.9,\"#4d9221\"],[1,\"#276419\"]],\"sequential\":[[0.0,\"#0d0887\"],[0.1111111111111111,\"#46039f\"],[0.2222222222222222,\"#7201a8\"],[0.3333333333333333,\"#9c179e\"],[0.4444444444444444,\"#bd3786\"],[0.5555555555555556,\"#d8576b\"],[0.6666666666666666,\"#ed7953\"],[0.7777777777777778,\"#fb9f3a\"],[0.8888888888888888,\"#fdca26\"],[1.0,\"#f0f921\"]],\"sequentialminus\":[[0.0,\"#0d0887\"],[0.1111111111111111,\"#46039f\"],[0.2222222222222222,\"#7201a8\"],[0.3333333333333333,\"#9c179e\"],[0.4444444444444444,\"#bd3786\"],[0.5555555555555556,\"#d8576b\"],[0.6666666666666666,\"#ed7953\"],[0.7777777777777778,\"#fb9f3a\"],[0.8888888888888888,\"#fdca26\"],[1.0,\"#f0f921\"]]},\"colorway\":[\"#636efa\",\"#EF553B\",\"#00cc96\",\"#ab63fa\",\"#FFA15A\",\"#19d3f3\",\"#FF6692\",\"#B6E880\",\"#FF97FF\",\"#FECB52\"],\"font\":{\"color\":\"#2a3f5f\"},\"geo\":{\"bgcolor\":\"white\",\"lakecolor\":\"white\",\"landcolor\":\"#E5ECF6\",\"showlakes\":true,\"showland\":true,\"subunitcolor\":\"white\"},\"hoverlabel\":{\"align\":\"left\"},\"hovermode\":\"closest\",\"mapbox\":{\"style\":\"light\"},\"paper_bgcolor\":\"white\",\"plot_bgcolor\":\"#E5ECF6\",\"polar\":{\"angularaxis\":{\"gridcolor\":\"white\",\"linecolor\":\"white\",\"ticks\":\"\"},\"bgcolor\":\"#E5ECF6\",\"radialaxis\":{\"gridcolor\":\"white\",\"linecolor\":\"white\",\"ticks\":\"\"}},\"scene\":{\"xaxis\":{\"backgroundcolor\":\"#E5ECF6\",\"gridcolor\":\"white\",\"gridwidth\":2,\"linecolor\":\"white\",\"showbackground\":true,\"ticks\":\"\",\"zerolinecolor\":\"white\"},\"yaxis\":{\"backgroundcolor\":\"#E5ECF6\",\"gridcolor\":\"white\",\"gridwidth\":2,\"linecolor\":\"white\",\"showbackground\":true,\"ticks\":\"\",\"zerolinecolor\":\"white\"},\"zaxis\":{\"backgroundcolor\":\"#E5ECF6\",\"gridcolor\":\"white\",\"gridwidth\":2,\"linecolor\":\"white\",\"showbackground\":true,\"ticks\":\"\",\"zerolinecolor\":\"white\"}},\"shapedefaults\":{\"line\":{\"color\":\"#2a3f5f\"}},\"ternary\":{\"aaxis\":{\"gridcolor\":\"white\",\"linecolor\":\"white\",\"ticks\":\"\"},\"baxis\":{\"gridcolor\":\"white\",\"linecolor\":\"white\",\"ticks\":\"\"},\"bgcolor\":\"#E5ECF6\",\"caxis\":{\"gridcolor\":\"white\",\"linecolor\":\"white\",\"ticks\":\"\"}},\"title\":{\"x\":0.05},\"xaxis\":{\"automargin\":true,\"gridcolor\":\"white\",\"linecolor\":\"white\",\"ticks\":\"\",\"title\":{\"standoff\":15},\"zerolinecolor\":\"white\",\"zerolinewidth\":2},\"yaxis\":{\"automargin\":true,\"gridcolor\":\"white\",\"linecolor\":\"white\",\"ticks\":\"\",\"title\":{\"standoff\":15},\"zerolinecolor\":\"white\",\"zerolinewidth\":2}}},\"xaxis\":{\"anchor\":\"y\",\"domain\":[0.0,1.0],\"title\":{\"text\":\"Budget\"}},\"yaxis\":{\"anchor\":\"x\",\"domain\":[0.0,1.0],\"title\":{\"text\":\"Worldwide\"}},\"legend\":{\"title\":{\"text\":\"Title\"},\"tracegroupgap\":0},\"margin\":{\"t\":60},\"title\":{\"text\":\"Budget and Worldwide Box Office Sales ($)\"}},                        {\"responsive\": true}                    ).then(function(){\n",
       "                            \n",
       "var gd = document.getElementById('b3319a23-e031-4a24-9534-8d700ef6099d');\n",
       "var x = new MutationObserver(function (mutations, observer) {{\n",
       "        var display = window.getComputedStyle(gd).display;\n",
       "        if (!display || display === 'none') {{\n",
       "            console.log([gd, 'removed!']);\n",
       "            Plotly.purge(gd);\n",
       "            observer.disconnect();\n",
       "        }}\n",
       "}});\n",
       "\n",
       "// Listen for the removal of the full notebook cells\n",
       "var notebookContainer = gd.closest('#notebook-container');\n",
       "if (notebookContainer) {{\n",
       "    x.observe(notebookContainer, {childList: true});\n",
       "}}\n",
       "\n",
       "// Listen for the clearing of the current output cell\n",
       "var outputEl = gd.closest('.output');\n",
       "if (outputEl) {{\n",
       "    x.observe(outputEl, {childList: true});\n",
       "}}\n",
       "\n",
       "                        })                };                });            </script>        </div>"
      ]
     },
     "metadata": {},
     "output_type": "display_data"
    }
   ],
   "source": [
    "make_graph(data,x = \"Budget\", y = \"Worldwide\", group = \"Title\")\n"
   ]
  },
  {
   "cell_type": "code",
   "execution_count": 7,
   "id": "015612ed",
   "metadata": {},
   "outputs": [
    {
     "data": {
      "text/plain": [
       "(64, 12)"
      ]
     },
     "execution_count": 7,
     "metadata": {},
     "output_type": "execute_result"
    }
   ],
   "source": [
    "data.shape"
   ]
  },
  {
   "cell_type": "code",
   "execution_count": 8,
   "id": "ed403a1f",
   "metadata": {},
   "outputs": [],
   "source": [
    "#data for each movie with diverse cast\n",
    "shang_chi = data[data[\"Title\"] == \"Shang-Chi and the Legend of the Ten Rings\"]\n",
    "black_panther = data[data[\"Title\"] == \"Black Panther\"]\n",
    "big_hero = data[data[\"Title\"] == \"Big Hero 6\"]\n"
   ]
  },
  {
   "cell_type": "code",
   "execution_count": 9,
   "id": "65d5e1db",
   "metadata": {},
   "outputs": [
    {
     "data": {
      "text/plain": [
       "60    150000000\n",
       "Name: Budget, dtype: int64"
      ]
     },
     "execution_count": 9,
     "metadata": {},
     "output_type": "execute_result"
    }
   ],
   "source": [
    "shang_chi[\"Budget\"]"
   ]
  },
  {
   "cell_type": "code",
   "execution_count": 10,
   "id": "55905d5a",
   "metadata": {},
   "outputs": [],
   "source": [
    "#larger budget or equal to shang_chi\n",
    "sc_budget_larger = data[data[\"Budget\"] >= 150000000]"
   ]
  },
  {
   "cell_type": "code",
   "execution_count": 11,
   "id": "aab082b0",
   "metadata": {},
   "outputs": [
    {
     "data": {
      "text/plain": [
       "60    432243292\n",
       "Name: Worldwide, dtype: int64"
      ]
     },
     "execution_count": 11,
     "metadata": {},
     "output_type": "execute_result"
    }
   ],
   "source": [
    "#worldwide profit\n",
    "shang_chi[\"Worldwide\"]"
   ]
  },
  {
   "cell_type": "code",
   "execution_count": 12,
   "id": "258d1c8f",
   "metadata": {},
   "outputs": [],
   "source": [
    "schw = sc_budget_larger[sc_budget_larger [\"Worldwide\"] >= 432243292] "
   ]
  },
  {
   "cell_type": "code",
   "execution_count": 13,
   "id": "4e44c31b",
   "metadata": {},
   "outputs": [
    {
     "data": {
      "text/plain": [
       "6"
      ]
     },
     "execution_count": 13,
     "metadata": {},
     "output_type": "execute_result"
    }
   ],
   "source": [
    "#shang chi only did more Worldwide sales than 6 movies of the same budget or more\n",
    "sc_budget_larger.shape[0] - schw.shape[0]"
   ]
  },
  {
   "cell_type": "code",
   "execution_count": 14,
   "id": "3f163582",
   "metadata": {
    "scrolled": true
   },
   "outputs": [
    {
     "data": {
      "text/html": [
       "<div>\n",
       "<style scoped>\n",
       "    .dataframe tbody tr th:only-of-type {\n",
       "        vertical-align: middle;\n",
       "    }\n",
       "\n",
       "    .dataframe tbody tr th {\n",
       "        vertical-align: top;\n",
       "    }\n",
       "\n",
       "    .dataframe thead th {\n",
       "        text-align: right;\n",
       "    }\n",
       "</style>\n",
       "<table border=\"1\" class=\"dataframe\">\n",
       "  <thead>\n",
       "    <tr style=\"text-align: right;\">\n",
       "      <th></th>\n",
       "      <th>Title</th>\n",
       "      <th>Distributor</th>\n",
       "      <th>ReleaseDateUS</th>\n",
       "      <th>Budget</th>\n",
       "      <th>OpeningWeekendNorthAmerica</th>\n",
       "      <th>NorthAmerica</th>\n",
       "      <th>OtherTerritories</th>\n",
       "      <th>Worldwide</th>\n",
       "      <th>Year</th>\n",
       "      <th>sc_bud</th>\n",
       "      <th>bp_bud</th>\n",
       "      <th>bh_bud</th>\n",
       "    </tr>\n",
       "  </thead>\n",
       "  <tbody>\n",
       "    <tr>\n",
       "      <th>9</th>\n",
       "      <td>Spider-Man 2</td>\n",
       "      <td>Sony Pictures</td>\n",
       "      <td>2004-06-30 00:00:00</td>\n",
       "      <td>200000000</td>\n",
       "      <td>88156227</td>\n",
       "      <td>373585825</td>\n",
       "      <td>415390628</td>\n",
       "      <td>788976453</td>\n",
       "      <td>2004</td>\n",
       "      <td>150000000</td>\n",
       "      <td>200000000</td>\n",
       "      <td>165000000</td>\n",
       "    </tr>\n",
       "    <tr>\n",
       "      <th>13</th>\n",
       "      <td>X-Men: The Last Stand</td>\n",
       "      <td>20th Century Fox</td>\n",
       "      <td>2006-05-26 00:00:00</td>\n",
       "      <td>210000000</td>\n",
       "      <td>102750665</td>\n",
       "      <td>234362462</td>\n",
       "      <td>224997093</td>\n",
       "      <td>459359555</td>\n",
       "      <td>2006</td>\n",
       "      <td>150000000</td>\n",
       "      <td>200000000</td>\n",
       "      <td>165000000</td>\n",
       "    </tr>\n",
       "    <tr>\n",
       "      <th>15</th>\n",
       "      <td>Spider-Man 3</td>\n",
       "      <td>Sony Pictures</td>\n",
       "      <td>2007-05-04 00:00:00</td>\n",
       "      <td>258000000</td>\n",
       "      <td>151116516</td>\n",
       "      <td>336530303</td>\n",
       "      <td>554341323</td>\n",
       "      <td>890871626</td>\n",
       "      <td>2007</td>\n",
       "      <td>150000000</td>\n",
       "      <td>200000000</td>\n",
       "      <td>165000000</td>\n",
       "    </tr>\n",
       "    <tr>\n",
       "      <th>21</th>\n",
       "      <td>Iron Man 2</td>\n",
       "      <td>Paramount Pictures</td>\n",
       "      <td>2010-05-07 00:00:00</td>\n",
       "      <td>200000000</td>\n",
       "      <td>128122480</td>\n",
       "      <td>312433331</td>\n",
       "      <td>311500000</td>\n",
       "      <td>623933331</td>\n",
       "      <td>2010</td>\n",
       "      <td>150000000</td>\n",
       "      <td>200000000</td>\n",
       "      <td>165000000</td>\n",
       "    </tr>\n",
       "    <tr>\n",
       "      <th>22</th>\n",
       "      <td>Thor</td>\n",
       "      <td>Paramount Pictures</td>\n",
       "      <td>2011-05-06 00:00:00</td>\n",
       "      <td>150000000</td>\n",
       "      <td>65723338</td>\n",
       "      <td>181030624</td>\n",
       "      <td>268295994</td>\n",
       "      <td>449326618</td>\n",
       "      <td>2011</td>\n",
       "      <td>150000000</td>\n",
       "      <td>200000000</td>\n",
       "      <td>165000000</td>\n",
       "    </tr>\n",
       "    <tr>\n",
       "      <th>26</th>\n",
       "      <td>The Avengers</td>\n",
       "      <td>Walt Disney Studios Motion Pictures</td>\n",
       "      <td>2012-05-04 00:00:00</td>\n",
       "      <td>220000000</td>\n",
       "      <td>207438708</td>\n",
       "      <td>623357910</td>\n",
       "      <td>895455078</td>\n",
       "      <td>1518812988</td>\n",
       "      <td>2012</td>\n",
       "      <td>150000000</td>\n",
       "      <td>200000000</td>\n",
       "      <td>165000000</td>\n",
       "    </tr>\n",
       "    <tr>\n",
       "      <th>27</th>\n",
       "      <td>The Amazing Spider-Man</td>\n",
       "      <td>Sony Pictures</td>\n",
       "      <td>2012-07-03 00:00:00</td>\n",
       "      <td>230000000</td>\n",
       "      <td>62004688</td>\n",
       "      <td>262030663</td>\n",
       "      <td>495900000</td>\n",
       "      <td>757930663</td>\n",
       "      <td>2012</td>\n",
       "      <td>150000000</td>\n",
       "      <td>200000000</td>\n",
       "      <td>165000000</td>\n",
       "    </tr>\n",
       "    <tr>\n",
       "      <th>28</th>\n",
       "      <td>Iron Man 3</td>\n",
       "      <td>Walt Disney Studios Motion Pictures</td>\n",
       "      <td>2013-05-03 00:00:00</td>\n",
       "      <td>200000000</td>\n",
       "      <td>174144585</td>\n",
       "      <td>409013994</td>\n",
       "      <td>805797258</td>\n",
       "      <td>1214811252</td>\n",
       "      <td>2013</td>\n",
       "      <td>150000000</td>\n",
       "      <td>200000000</td>\n",
       "      <td>165000000</td>\n",
       "    </tr>\n",
       "    <tr>\n",
       "      <th>30</th>\n",
       "      <td>Thor: The Dark World</td>\n",
       "      <td>Walt Disney Studios Motion Pictures</td>\n",
       "      <td>2013-11-08 00:00:00</td>\n",
       "      <td>170000000</td>\n",
       "      <td>85737841</td>\n",
       "      <td>206362140</td>\n",
       "      <td>438209262</td>\n",
       "      <td>644571402</td>\n",
       "      <td>2013</td>\n",
       "      <td>150000000</td>\n",
       "      <td>200000000</td>\n",
       "      <td>165000000</td>\n",
       "    </tr>\n",
       "    <tr>\n",
       "      <th>31</th>\n",
       "      <td>Captain America: The Winter Soldier</td>\n",
       "      <td>Walt Disney Studios Motion Pictures</td>\n",
       "      <td>2014-04-04 00:00:00</td>\n",
       "      <td>170000000</td>\n",
       "      <td>95023721</td>\n",
       "      <td>259766572</td>\n",
       "      <td>454497695</td>\n",
       "      <td>714264267</td>\n",
       "      <td>2014</td>\n",
       "      <td>150000000</td>\n",
       "      <td>200000000</td>\n",
       "      <td>165000000</td>\n",
       "    </tr>\n",
       "    <tr>\n",
       "      <th>32</th>\n",
       "      <td>The Amazing Spider-Man 2</td>\n",
       "      <td>Sony Pictures</td>\n",
       "      <td>2014-05-02 00:00:00</td>\n",
       "      <td>255000000</td>\n",
       "      <td>91608337</td>\n",
       "      <td>202853933</td>\n",
       "      <td>506128390</td>\n",
       "      <td>708982323</td>\n",
       "      <td>2014</td>\n",
       "      <td>150000000</td>\n",
       "      <td>200000000</td>\n",
       "      <td>165000000</td>\n",
       "    </tr>\n",
       "    <tr>\n",
       "      <th>33</th>\n",
       "      <td>X-Men: Days of Future Past</td>\n",
       "      <td>20th Century Fox</td>\n",
       "      <td>2014-05-23 00:00:00</td>\n",
       "      <td>200000000</td>\n",
       "      <td>90823660</td>\n",
       "      <td>233921534</td>\n",
       "      <td>513941241</td>\n",
       "      <td>747862775</td>\n",
       "      <td>2014</td>\n",
       "      <td>150000000</td>\n",
       "      <td>200000000</td>\n",
       "      <td>165000000</td>\n",
       "    </tr>\n",
       "    <tr>\n",
       "      <th>34</th>\n",
       "      <td>Guardians of the Galaxy</td>\n",
       "      <td>Walt Disney Studios Motion Pictures</td>\n",
       "      <td>2014-08-01 00:00:00</td>\n",
       "      <td>170000000</td>\n",
       "      <td>94320883</td>\n",
       "      <td>333176600</td>\n",
       "      <td>440152029</td>\n",
       "      <td>773328629</td>\n",
       "      <td>2014</td>\n",
       "      <td>150000000</td>\n",
       "      <td>200000000</td>\n",
       "      <td>165000000</td>\n",
       "    </tr>\n",
       "    <tr>\n",
       "      <th>35</th>\n",
       "      <td>Big Hero 6</td>\n",
       "      <td>Walt Disney Studios Motion Pictures</td>\n",
       "      <td>2014-11-07 00:00:00</td>\n",
       "      <td>165000000</td>\n",
       "      <td>56215889</td>\n",
       "      <td>222527828</td>\n",
       "      <td>435300000</td>\n",
       "      <td>657827828</td>\n",
       "      <td>2014</td>\n",
       "      <td>150000000</td>\n",
       "      <td>200000000</td>\n",
       "      <td>165000000</td>\n",
       "    </tr>\n",
       "    <tr>\n",
       "      <th>36</th>\n",
       "      <td>Avengers: Age of Ultron</td>\n",
       "      <td>Walt Disney Studios Motion Pictures</td>\n",
       "      <td>2015-05-01 00:00:00</td>\n",
       "      <td>250000000</td>\n",
       "      <td>191271109</td>\n",
       "      <td>459005868</td>\n",
       "      <td>946397826</td>\n",
       "      <td>1405403694</td>\n",
       "      <td>2015</td>\n",
       "      <td>150000000</td>\n",
       "      <td>200000000</td>\n",
       "      <td>165000000</td>\n",
       "    </tr>\n",
       "    <tr>\n",
       "      <th>40</th>\n",
       "      <td>Captain America: Civil War</td>\n",
       "      <td>Walt Disney Studios Motion Pictures</td>\n",
       "      <td>2016-05-06 00:00:00</td>\n",
       "      <td>250000000</td>\n",
       "      <td>179139142</td>\n",
       "      <td>408084349</td>\n",
       "      <td>745220146</td>\n",
       "      <td>1153304495</td>\n",
       "      <td>2016</td>\n",
       "      <td>150000000</td>\n",
       "      <td>200000000</td>\n",
       "      <td>165000000</td>\n",
       "    </tr>\n",
       "    <tr>\n",
       "      <th>41</th>\n",
       "      <td>X-Men: Apocalypse</td>\n",
       "      <td>20th Century Fox</td>\n",
       "      <td>2016-05-27 00:00:00</td>\n",
       "      <td>178000000</td>\n",
       "      <td>65769562</td>\n",
       "      <td>155442489</td>\n",
       "      <td>388491616</td>\n",
       "      <td>543934105</td>\n",
       "      <td>2016</td>\n",
       "      <td>150000000</td>\n",
       "      <td>200000000</td>\n",
       "      <td>165000000</td>\n",
       "    </tr>\n",
       "    <tr>\n",
       "      <th>42</th>\n",
       "      <td>Doctor Strange</td>\n",
       "      <td>Walt Disney Studios Motion Pictures</td>\n",
       "      <td>2016-11-04 00:00:00</td>\n",
       "      <td>165000000</td>\n",
       "      <td>85058311</td>\n",
       "      <td>232641920</td>\n",
       "      <td>445076475</td>\n",
       "      <td>677718395</td>\n",
       "      <td>2016</td>\n",
       "      <td>150000000</td>\n",
       "      <td>200000000</td>\n",
       "      <td>165000000</td>\n",
       "    </tr>\n",
       "    <tr>\n",
       "      <th>44</th>\n",
       "      <td>Guardians of the Galaxy Vol. 2</td>\n",
       "      <td>Walt Disney Studios Motion Pictures</td>\n",
       "      <td>2017-05-05 00:00:00</td>\n",
       "      <td>200000000</td>\n",
       "      <td>146510104</td>\n",
       "      <td>389813101</td>\n",
       "      <td>473942950</td>\n",
       "      <td>863756051</td>\n",
       "      <td>2017</td>\n",
       "      <td>150000000</td>\n",
       "      <td>200000000</td>\n",
       "      <td>165000000</td>\n",
       "    </tr>\n",
       "    <tr>\n",
       "      <th>45</th>\n",
       "      <td>Spider-Man: Homecoming</td>\n",
       "      <td>Sony Pictures</td>\n",
       "      <td>2017-07-07 00:00:00</td>\n",
       "      <td>175000000</td>\n",
       "      <td>117027503</td>\n",
       "      <td>334201140</td>\n",
       "      <td>545965784</td>\n",
       "      <td>880166924</td>\n",
       "      <td>2017</td>\n",
       "      <td>150000000</td>\n",
       "      <td>200000000</td>\n",
       "      <td>165000000</td>\n",
       "    </tr>\n",
       "    <tr>\n",
       "      <th>47</th>\n",
       "      <td>Thor: Ragnarok</td>\n",
       "      <td>Walt Disney Studios Motion Pictures</td>\n",
       "      <td>2017-11-03 00:00:00</td>\n",
       "      <td>180000000</td>\n",
       "      <td>122744989</td>\n",
       "      <td>315058289</td>\n",
       "      <td>538918837</td>\n",
       "      <td>853977126</td>\n",
       "      <td>2017</td>\n",
       "      <td>150000000</td>\n",
       "      <td>200000000</td>\n",
       "      <td>165000000</td>\n",
       "    </tr>\n",
       "    <tr>\n",
       "      <th>48</th>\n",
       "      <td>Black Panther</td>\n",
       "      <td>Walt Disney Studios Motion Pictures</td>\n",
       "      <td>2018-02-16 00:00:00</td>\n",
       "      <td>200000000</td>\n",
       "      <td>202003951</td>\n",
       "      <td>700059566</td>\n",
       "      <td>646853595</td>\n",
       "      <td>1346913161</td>\n",
       "      <td>2018</td>\n",
       "      <td>150000000</td>\n",
       "      <td>200000000</td>\n",
       "      <td>165000000</td>\n",
       "    </tr>\n",
       "    <tr>\n",
       "      <th>49</th>\n",
       "      <td>Avengers: Infinity War</td>\n",
       "      <td>Walt Disney Studios Motion Pictures</td>\n",
       "      <td>2018-04-27 00:00:00</td>\n",
       "      <td>316000000</td>\n",
       "      <td>257698183</td>\n",
       "      <td>678815482</td>\n",
       "      <td>1369544272</td>\n",
       "      <td>2048359754</td>\n",
       "      <td>2018</td>\n",
       "      <td>150000000</td>\n",
       "      <td>200000000</td>\n",
       "      <td>165000000</td>\n",
       "    </tr>\n",
       "    <tr>\n",
       "      <th>51</th>\n",
       "      <td>Ant-Man and the Wasp</td>\n",
       "      <td>Walt Disney Studios Motion Pictures</td>\n",
       "      <td>2018-07-06 00:00:00</td>\n",
       "      <td>162000000</td>\n",
       "      <td>75812205</td>\n",
       "      <td>216648740</td>\n",
       "      <td>406025399</td>\n",
       "      <td>622674139</td>\n",
       "      <td>2018</td>\n",
       "      <td>150000000</td>\n",
       "      <td>200000000</td>\n",
       "      <td>165000000</td>\n",
       "    </tr>\n",
       "    <tr>\n",
       "      <th>54</th>\n",
       "      <td>Captain Marvel</td>\n",
       "      <td>Walt Disney Studios Motion Pictures</td>\n",
       "      <td>2019-03-08 00:00:00</td>\n",
       "      <td>152000000</td>\n",
       "      <td>153433423</td>\n",
       "      <td>426829839</td>\n",
       "      <td>701444955</td>\n",
       "      <td>1128274794</td>\n",
       "      <td>2019</td>\n",
       "      <td>150000000</td>\n",
       "      <td>200000000</td>\n",
       "      <td>165000000</td>\n",
       "    </tr>\n",
       "    <tr>\n",
       "      <th>55</th>\n",
       "      <td>Avengers: Endgame</td>\n",
       "      <td>Walt Disney Studios Motion Pictures</td>\n",
       "      <td>2019-04-26 00:00:00</td>\n",
       "      <td>356000000</td>\n",
       "      <td>357115007</td>\n",
       "      <td>858373000</td>\n",
       "      <td>1937901401</td>\n",
       "      <td>2797800564</td>\n",
       "      <td>2019</td>\n",
       "      <td>150000000</td>\n",
       "      <td>200000000</td>\n",
       "      <td>165000000</td>\n",
       "    </tr>\n",
       "    <tr>\n",
       "      <th>57</th>\n",
       "      <td>Spider-Man: Far From Home</td>\n",
       "      <td>Sony Pictures</td>\n",
       "      <td>2019-07-02 00:00:00</td>\n",
       "      <td>160000000</td>\n",
       "      <td>92579212</td>\n",
       "      <td>390532085</td>\n",
       "      <td>741395911</td>\n",
       "      <td>1131927996</td>\n",
       "      <td>2019</td>\n",
       "      <td>150000000</td>\n",
       "      <td>200000000</td>\n",
       "      <td>165000000</td>\n",
       "    </tr>\n",
       "    <tr>\n",
       "      <th>60</th>\n",
       "      <td>Shang-Chi and the Legend of the Ten Rings</td>\n",
       "      <td>Walt Disney Studios Motion Pictures</td>\n",
       "      <td>2021-09-03 00:00:00</td>\n",
       "      <td>150000000</td>\n",
       "      <td>75388688</td>\n",
       "      <td>224543292</td>\n",
       "      <td>207700000</td>\n",
       "      <td>432243292</td>\n",
       "      <td>2021</td>\n",
       "      <td>150000000</td>\n",
       "      <td>200000000</td>\n",
       "      <td>165000000</td>\n",
       "    </tr>\n",
       "    <tr>\n",
       "      <th>63</th>\n",
       "      <td>Spider-Man: No Way Home</td>\n",
       "      <td>Sony Pictures</td>\n",
       "      <td>2021-12-17 00:00:00</td>\n",
       "      <td>200000000</td>\n",
       "      <td>260138569</td>\n",
       "      <td>780418859</td>\n",
       "      <td>1072000000</td>\n",
       "      <td>1852418859</td>\n",
       "      <td>2021</td>\n",
       "      <td>150000000</td>\n",
       "      <td>200000000</td>\n",
       "      <td>165000000</td>\n",
       "    </tr>\n",
       "  </tbody>\n",
       "</table>\n",
       "</div>"
      ],
      "text/plain": [
       "                                        Title  \\\n",
       "9                                Spider-Man 2   \n",
       "13                      X-Men: The Last Stand   \n",
       "15                               Spider-Man 3   \n",
       "21                                 Iron Man 2   \n",
       "22                                       Thor   \n",
       "26                               The Avengers   \n",
       "27                     The Amazing Spider-Man   \n",
       "28                                 Iron Man 3   \n",
       "30                       Thor: The Dark World   \n",
       "31        Captain America: The Winter Soldier   \n",
       "32                   The Amazing Spider-Man 2   \n",
       "33                 X-Men: Days of Future Past   \n",
       "34                    Guardians of the Galaxy   \n",
       "35                                 Big Hero 6   \n",
       "36                    Avengers: Age of Ultron   \n",
       "40                 Captain America: Civil War   \n",
       "41                          X-Men: Apocalypse   \n",
       "42                             Doctor Strange   \n",
       "44             Guardians of the Galaxy Vol. 2   \n",
       "45                     Spider-Man: Homecoming   \n",
       "47                             Thor: Ragnarok   \n",
       "48                              Black Panther   \n",
       "49                     Avengers: Infinity War   \n",
       "51                       Ant-Man and the Wasp   \n",
       "54                             Captain Marvel   \n",
       "55                          Avengers: Endgame   \n",
       "57                  Spider-Man: Far From Home   \n",
       "60  Shang-Chi and the Legend of the Ten Rings   \n",
       "63                    Spider-Man: No Way Home   \n",
       "\n",
       "                            Distributor        ReleaseDateUS     Budget  \\\n",
       "9                         Sony Pictures  2004-06-30 00:00:00  200000000   \n",
       "13                     20th Century Fox  2006-05-26 00:00:00  210000000   \n",
       "15                        Sony Pictures  2007-05-04 00:00:00  258000000   \n",
       "21                   Paramount Pictures  2010-05-07 00:00:00  200000000   \n",
       "22                   Paramount Pictures  2011-05-06 00:00:00  150000000   \n",
       "26  Walt Disney Studios Motion Pictures  2012-05-04 00:00:00  220000000   \n",
       "27                        Sony Pictures  2012-07-03 00:00:00  230000000   \n",
       "28  Walt Disney Studios Motion Pictures  2013-05-03 00:00:00  200000000   \n",
       "30  Walt Disney Studios Motion Pictures  2013-11-08 00:00:00  170000000   \n",
       "31  Walt Disney Studios Motion Pictures  2014-04-04 00:00:00  170000000   \n",
       "32                        Sony Pictures  2014-05-02 00:00:00  255000000   \n",
       "33                     20th Century Fox  2014-05-23 00:00:00  200000000   \n",
       "34  Walt Disney Studios Motion Pictures  2014-08-01 00:00:00  170000000   \n",
       "35  Walt Disney Studios Motion Pictures  2014-11-07 00:00:00  165000000   \n",
       "36  Walt Disney Studios Motion Pictures  2015-05-01 00:00:00  250000000   \n",
       "40  Walt Disney Studios Motion Pictures  2016-05-06 00:00:00  250000000   \n",
       "41                     20th Century Fox  2016-05-27 00:00:00  178000000   \n",
       "42  Walt Disney Studios Motion Pictures  2016-11-04 00:00:00  165000000   \n",
       "44  Walt Disney Studios Motion Pictures  2017-05-05 00:00:00  200000000   \n",
       "45                        Sony Pictures  2017-07-07 00:00:00  175000000   \n",
       "47  Walt Disney Studios Motion Pictures  2017-11-03 00:00:00  180000000   \n",
       "48  Walt Disney Studios Motion Pictures  2018-02-16 00:00:00  200000000   \n",
       "49  Walt Disney Studios Motion Pictures  2018-04-27 00:00:00  316000000   \n",
       "51  Walt Disney Studios Motion Pictures  2018-07-06 00:00:00  162000000   \n",
       "54  Walt Disney Studios Motion Pictures  2019-03-08 00:00:00  152000000   \n",
       "55  Walt Disney Studios Motion Pictures  2019-04-26 00:00:00  356000000   \n",
       "57                        Sony Pictures  2019-07-02 00:00:00  160000000   \n",
       "60  Walt Disney Studios Motion Pictures  2021-09-03 00:00:00  150000000   \n",
       "63                        Sony Pictures  2021-12-17 00:00:00  200000000   \n",
       "\n",
       "    OpeningWeekendNorthAmerica  NorthAmerica  OtherTerritories   Worldwide  \\\n",
       "9                     88156227     373585825         415390628   788976453   \n",
       "13                   102750665     234362462         224997093   459359555   \n",
       "15                   151116516     336530303         554341323   890871626   \n",
       "21                   128122480     312433331         311500000   623933331   \n",
       "22                    65723338     181030624         268295994   449326618   \n",
       "26                   207438708     623357910         895455078  1518812988   \n",
       "27                    62004688     262030663         495900000   757930663   \n",
       "28                   174144585     409013994         805797258  1214811252   \n",
       "30                    85737841     206362140         438209262   644571402   \n",
       "31                    95023721     259766572         454497695   714264267   \n",
       "32                    91608337     202853933         506128390   708982323   \n",
       "33                    90823660     233921534         513941241   747862775   \n",
       "34                    94320883     333176600         440152029   773328629   \n",
       "35                    56215889     222527828         435300000   657827828   \n",
       "36                   191271109     459005868         946397826  1405403694   \n",
       "40                   179139142     408084349         745220146  1153304495   \n",
       "41                    65769562     155442489         388491616   543934105   \n",
       "42                    85058311     232641920         445076475   677718395   \n",
       "44                   146510104     389813101         473942950   863756051   \n",
       "45                   117027503     334201140         545965784   880166924   \n",
       "47                   122744989     315058289         538918837   853977126   \n",
       "48                   202003951     700059566         646853595  1346913161   \n",
       "49                   257698183     678815482        1369544272  2048359754   \n",
       "51                    75812205     216648740         406025399   622674139   \n",
       "54                   153433423     426829839         701444955  1128274794   \n",
       "55                   357115007     858373000        1937901401  2797800564   \n",
       "57                    92579212     390532085         741395911  1131927996   \n",
       "60                    75388688     224543292         207700000   432243292   \n",
       "63                   260138569     780418859        1072000000  1852418859   \n",
       "\n",
       "    Year     sc_bud     bp_bud     bh_bud  \n",
       "9   2004  150000000  200000000  165000000  \n",
       "13  2006  150000000  200000000  165000000  \n",
       "15  2007  150000000  200000000  165000000  \n",
       "21  2010  150000000  200000000  165000000  \n",
       "22  2011  150000000  200000000  165000000  \n",
       "26  2012  150000000  200000000  165000000  \n",
       "27  2012  150000000  200000000  165000000  \n",
       "28  2013  150000000  200000000  165000000  \n",
       "30  2013  150000000  200000000  165000000  \n",
       "31  2014  150000000  200000000  165000000  \n",
       "32  2014  150000000  200000000  165000000  \n",
       "33  2014  150000000  200000000  165000000  \n",
       "34  2014  150000000  200000000  165000000  \n",
       "35  2014  150000000  200000000  165000000  \n",
       "36  2015  150000000  200000000  165000000  \n",
       "40  2016  150000000  200000000  165000000  \n",
       "41  2016  150000000  200000000  165000000  \n",
       "42  2016  150000000  200000000  165000000  \n",
       "44  2017  150000000  200000000  165000000  \n",
       "45  2017  150000000  200000000  165000000  \n",
       "47  2017  150000000  200000000  165000000  \n",
       "48  2018  150000000  200000000  165000000  \n",
       "49  2018  150000000  200000000  165000000  \n",
       "51  2018  150000000  200000000  165000000  \n",
       "54  2019  150000000  200000000  165000000  \n",
       "55  2019  150000000  200000000  165000000  \n",
       "57  2019  150000000  200000000  165000000  \n",
       "60  2021  150000000  200000000  165000000  \n",
       "63  2021  150000000  200000000  165000000  "
      ]
     },
     "execution_count": 14,
     "metadata": {},
     "output_type": "execute_result"
    }
   ],
   "source": [
    "#movies with a budget equal to or larger than shang chi that made more than or equal to worldwide\n",
    "sc_budget_larger[sc_budget_larger [\"Worldwide\"] >= 432243292] "
   ]
  },
  {
   "cell_type": "code",
   "execution_count": 15,
   "id": "cf848f79",
   "metadata": {},
   "outputs": [],
   "source": [
    "#black panther data\n",
    "black_panther = data[data[\"Title\"] == \"Black Panther\"]"
   ]
  },
  {
   "cell_type": "code",
   "execution_count": 16,
   "id": "30fd5009",
   "metadata": {},
   "outputs": [
    {
     "data": {
      "text/plain": [
       "48    200000000\n",
       "Name: Budget, dtype: int64"
      ]
     },
     "execution_count": 16,
     "metadata": {},
     "output_type": "execute_result"
    }
   ],
   "source": [
    "black_panther[\"Budget\"]"
   ]
  },
  {
   "cell_type": "code",
   "execution_count": 17,
   "id": "cc1c2e02",
   "metadata": {},
   "outputs": [],
   "source": [
    "bp_budget_larger = data[data[\"Budget\"] >= 200000000]"
   ]
  },
  {
   "cell_type": "code",
   "execution_count": 18,
   "id": "cef55f28",
   "metadata": {},
   "outputs": [
    {
     "data": {
      "text/html": [
       "<div>\n",
       "<style scoped>\n",
       "    .dataframe tbody tr th:only-of-type {\n",
       "        vertical-align: middle;\n",
       "    }\n",
       "\n",
       "    .dataframe tbody tr th {\n",
       "        vertical-align: top;\n",
       "    }\n",
       "\n",
       "    .dataframe thead th {\n",
       "        text-align: right;\n",
       "    }\n",
       "</style>\n",
       "<table border=\"1\" class=\"dataframe\">\n",
       "  <thead>\n",
       "    <tr style=\"text-align: right;\">\n",
       "      <th></th>\n",
       "      <th>Title</th>\n",
       "      <th>Distributor</th>\n",
       "      <th>ReleaseDateUS</th>\n",
       "      <th>Budget</th>\n",
       "      <th>OpeningWeekendNorthAmerica</th>\n",
       "      <th>NorthAmerica</th>\n",
       "      <th>OtherTerritories</th>\n",
       "      <th>Worldwide</th>\n",
       "      <th>Year</th>\n",
       "      <th>sc_bud</th>\n",
       "      <th>bp_bud</th>\n",
       "      <th>bh_bud</th>\n",
       "    </tr>\n",
       "  </thead>\n",
       "  <tbody>\n",
       "    <tr>\n",
       "      <th>9</th>\n",
       "      <td>Spider-Man 2</td>\n",
       "      <td>Sony Pictures</td>\n",
       "      <td>2004-06-30 00:00:00</td>\n",
       "      <td>200000000</td>\n",
       "      <td>88156227</td>\n",
       "      <td>373585825</td>\n",
       "      <td>415390628</td>\n",
       "      <td>788976453</td>\n",
       "      <td>2004</td>\n",
       "      <td>150000000</td>\n",
       "      <td>200000000</td>\n",
       "      <td>165000000</td>\n",
       "    </tr>\n",
       "    <tr>\n",
       "      <th>13</th>\n",
       "      <td>X-Men: The Last Stand</td>\n",
       "      <td>20th Century Fox</td>\n",
       "      <td>2006-05-26 00:00:00</td>\n",
       "      <td>210000000</td>\n",
       "      <td>102750665</td>\n",
       "      <td>234362462</td>\n",
       "      <td>224997093</td>\n",
       "      <td>459359555</td>\n",
       "      <td>2006</td>\n",
       "      <td>150000000</td>\n",
       "      <td>200000000</td>\n",
       "      <td>165000000</td>\n",
       "    </tr>\n",
       "    <tr>\n",
       "      <th>15</th>\n",
       "      <td>Spider-Man 3</td>\n",
       "      <td>Sony Pictures</td>\n",
       "      <td>2007-05-04 00:00:00</td>\n",
       "      <td>258000000</td>\n",
       "      <td>151116516</td>\n",
       "      <td>336530303</td>\n",
       "      <td>554341323</td>\n",
       "      <td>890871626</td>\n",
       "      <td>2007</td>\n",
       "      <td>150000000</td>\n",
       "      <td>200000000</td>\n",
       "      <td>165000000</td>\n",
       "    </tr>\n",
       "    <tr>\n",
       "      <th>21</th>\n",
       "      <td>Iron Man 2</td>\n",
       "      <td>Paramount Pictures</td>\n",
       "      <td>2010-05-07 00:00:00</td>\n",
       "      <td>200000000</td>\n",
       "      <td>128122480</td>\n",
       "      <td>312433331</td>\n",
       "      <td>311500000</td>\n",
       "      <td>623933331</td>\n",
       "      <td>2010</td>\n",
       "      <td>150000000</td>\n",
       "      <td>200000000</td>\n",
       "      <td>165000000</td>\n",
       "    </tr>\n",
       "    <tr>\n",
       "      <th>26</th>\n",
       "      <td>The Avengers</td>\n",
       "      <td>Walt Disney Studios Motion Pictures</td>\n",
       "      <td>2012-05-04 00:00:00</td>\n",
       "      <td>220000000</td>\n",
       "      <td>207438708</td>\n",
       "      <td>623357910</td>\n",
       "      <td>895455078</td>\n",
       "      <td>1518812988</td>\n",
       "      <td>2012</td>\n",
       "      <td>150000000</td>\n",
       "      <td>200000000</td>\n",
       "      <td>165000000</td>\n",
       "    </tr>\n",
       "    <tr>\n",
       "      <th>27</th>\n",
       "      <td>The Amazing Spider-Man</td>\n",
       "      <td>Sony Pictures</td>\n",
       "      <td>2012-07-03 00:00:00</td>\n",
       "      <td>230000000</td>\n",
       "      <td>62004688</td>\n",
       "      <td>262030663</td>\n",
       "      <td>495900000</td>\n",
       "      <td>757930663</td>\n",
       "      <td>2012</td>\n",
       "      <td>150000000</td>\n",
       "      <td>200000000</td>\n",
       "      <td>165000000</td>\n",
       "    </tr>\n",
       "    <tr>\n",
       "      <th>28</th>\n",
       "      <td>Iron Man 3</td>\n",
       "      <td>Walt Disney Studios Motion Pictures</td>\n",
       "      <td>2013-05-03 00:00:00</td>\n",
       "      <td>200000000</td>\n",
       "      <td>174144585</td>\n",
       "      <td>409013994</td>\n",
       "      <td>805797258</td>\n",
       "      <td>1214811252</td>\n",
       "      <td>2013</td>\n",
       "      <td>150000000</td>\n",
       "      <td>200000000</td>\n",
       "      <td>165000000</td>\n",
       "    </tr>\n",
       "    <tr>\n",
       "      <th>32</th>\n",
       "      <td>The Amazing Spider-Man 2</td>\n",
       "      <td>Sony Pictures</td>\n",
       "      <td>2014-05-02 00:00:00</td>\n",
       "      <td>255000000</td>\n",
       "      <td>91608337</td>\n",
       "      <td>202853933</td>\n",
       "      <td>506128390</td>\n",
       "      <td>708982323</td>\n",
       "      <td>2014</td>\n",
       "      <td>150000000</td>\n",
       "      <td>200000000</td>\n",
       "      <td>165000000</td>\n",
       "    </tr>\n",
       "    <tr>\n",
       "      <th>33</th>\n",
       "      <td>X-Men: Days of Future Past</td>\n",
       "      <td>20th Century Fox</td>\n",
       "      <td>2014-05-23 00:00:00</td>\n",
       "      <td>200000000</td>\n",
       "      <td>90823660</td>\n",
       "      <td>233921534</td>\n",
       "      <td>513941241</td>\n",
       "      <td>747862775</td>\n",
       "      <td>2014</td>\n",
       "      <td>150000000</td>\n",
       "      <td>200000000</td>\n",
       "      <td>165000000</td>\n",
       "    </tr>\n",
       "    <tr>\n",
       "      <th>36</th>\n",
       "      <td>Avengers: Age of Ultron</td>\n",
       "      <td>Walt Disney Studios Motion Pictures</td>\n",
       "      <td>2015-05-01 00:00:00</td>\n",
       "      <td>250000000</td>\n",
       "      <td>191271109</td>\n",
       "      <td>459005868</td>\n",
       "      <td>946397826</td>\n",
       "      <td>1405403694</td>\n",
       "      <td>2015</td>\n",
       "      <td>150000000</td>\n",
       "      <td>200000000</td>\n",
       "      <td>165000000</td>\n",
       "    </tr>\n",
       "    <tr>\n",
       "      <th>40</th>\n",
       "      <td>Captain America: Civil War</td>\n",
       "      <td>Walt Disney Studios Motion Pictures</td>\n",
       "      <td>2016-05-06 00:00:00</td>\n",
       "      <td>250000000</td>\n",
       "      <td>179139142</td>\n",
       "      <td>408084349</td>\n",
       "      <td>745220146</td>\n",
       "      <td>1153304495</td>\n",
       "      <td>2016</td>\n",
       "      <td>150000000</td>\n",
       "      <td>200000000</td>\n",
       "      <td>165000000</td>\n",
       "    </tr>\n",
       "    <tr>\n",
       "      <th>44</th>\n",
       "      <td>Guardians of the Galaxy Vol. 2</td>\n",
       "      <td>Walt Disney Studios Motion Pictures</td>\n",
       "      <td>2017-05-05 00:00:00</td>\n",
       "      <td>200000000</td>\n",
       "      <td>146510104</td>\n",
       "      <td>389813101</td>\n",
       "      <td>473942950</td>\n",
       "      <td>863756051</td>\n",
       "      <td>2017</td>\n",
       "      <td>150000000</td>\n",
       "      <td>200000000</td>\n",
       "      <td>165000000</td>\n",
       "    </tr>\n",
       "    <tr>\n",
       "      <th>48</th>\n",
       "      <td>Black Panther</td>\n",
       "      <td>Walt Disney Studios Motion Pictures</td>\n",
       "      <td>2018-02-16 00:00:00</td>\n",
       "      <td>200000000</td>\n",
       "      <td>202003951</td>\n",
       "      <td>700059566</td>\n",
       "      <td>646853595</td>\n",
       "      <td>1346913161</td>\n",
       "      <td>2018</td>\n",
       "      <td>150000000</td>\n",
       "      <td>200000000</td>\n",
       "      <td>165000000</td>\n",
       "    </tr>\n",
       "    <tr>\n",
       "      <th>49</th>\n",
       "      <td>Avengers: Infinity War</td>\n",
       "      <td>Walt Disney Studios Motion Pictures</td>\n",
       "      <td>2018-04-27 00:00:00</td>\n",
       "      <td>316000000</td>\n",
       "      <td>257698183</td>\n",
       "      <td>678815482</td>\n",
       "      <td>1369544272</td>\n",
       "      <td>2048359754</td>\n",
       "      <td>2018</td>\n",
       "      <td>150000000</td>\n",
       "      <td>200000000</td>\n",
       "      <td>165000000</td>\n",
       "    </tr>\n",
       "    <tr>\n",
       "      <th>55</th>\n",
       "      <td>Avengers: Endgame</td>\n",
       "      <td>Walt Disney Studios Motion Pictures</td>\n",
       "      <td>2019-04-26 00:00:00</td>\n",
       "      <td>356000000</td>\n",
       "      <td>357115007</td>\n",
       "      <td>858373000</td>\n",
       "      <td>1937901401</td>\n",
       "      <td>2797800564</td>\n",
       "      <td>2019</td>\n",
       "      <td>150000000</td>\n",
       "      <td>200000000</td>\n",
       "      <td>165000000</td>\n",
       "    </tr>\n",
       "    <tr>\n",
       "      <th>56</th>\n",
       "      <td>Dark Phoenix</td>\n",
       "      <td>20th Century Fox</td>\n",
       "      <td>2019-06-07 00:00:00</td>\n",
       "      <td>200000000</td>\n",
       "      <td>32828348</td>\n",
       "      <td>65845974</td>\n",
       "      <td>186597000</td>\n",
       "      <td>252442974</td>\n",
       "      <td>2019</td>\n",
       "      <td>150000000</td>\n",
       "      <td>200000000</td>\n",
       "      <td>165000000</td>\n",
       "    </tr>\n",
       "    <tr>\n",
       "      <th>59</th>\n",
       "      <td>Black Widow</td>\n",
       "      <td>Walt Disney Studios Motion Pictures</td>\n",
       "      <td>2021-07-09 00:00:00</td>\n",
       "      <td>200000000</td>\n",
       "      <td>80366312</td>\n",
       "      <td>183651665</td>\n",
       "      <td>195979696</td>\n",
       "      <td>379631351</td>\n",
       "      <td>2021</td>\n",
       "      <td>150000000</td>\n",
       "      <td>200000000</td>\n",
       "      <td>165000000</td>\n",
       "    </tr>\n",
       "    <tr>\n",
       "      <th>62</th>\n",
       "      <td>Eternals</td>\n",
       "      <td>Walt Disney Studios Motion Pictures</td>\n",
       "      <td>2021-11-05 00:00:00</td>\n",
       "      <td>200000000</td>\n",
       "      <td>85021497</td>\n",
       "      <td>164870234</td>\n",
       "      <td>237194665</td>\n",
       "      <td>402064899</td>\n",
       "      <td>2021</td>\n",
       "      <td>150000000</td>\n",
       "      <td>200000000</td>\n",
       "      <td>165000000</td>\n",
       "    </tr>\n",
       "    <tr>\n",
       "      <th>63</th>\n",
       "      <td>Spider-Man: No Way Home</td>\n",
       "      <td>Sony Pictures</td>\n",
       "      <td>2021-12-17 00:00:00</td>\n",
       "      <td>200000000</td>\n",
       "      <td>260138569</td>\n",
       "      <td>780418859</td>\n",
       "      <td>1072000000</td>\n",
       "      <td>1852418859</td>\n",
       "      <td>2021</td>\n",
       "      <td>150000000</td>\n",
       "      <td>200000000</td>\n",
       "      <td>165000000</td>\n",
       "    </tr>\n",
       "  </tbody>\n",
       "</table>\n",
       "</div>"
      ],
      "text/plain": [
       "                             Title                          Distributor  \\\n",
       "9                     Spider-Man 2                        Sony Pictures   \n",
       "13           X-Men: The Last Stand                     20th Century Fox   \n",
       "15                    Spider-Man 3                        Sony Pictures   \n",
       "21                      Iron Man 2                   Paramount Pictures   \n",
       "26                    The Avengers  Walt Disney Studios Motion Pictures   \n",
       "27          The Amazing Spider-Man                        Sony Pictures   \n",
       "28                      Iron Man 3  Walt Disney Studios Motion Pictures   \n",
       "32        The Amazing Spider-Man 2                        Sony Pictures   \n",
       "33      X-Men: Days of Future Past                     20th Century Fox   \n",
       "36         Avengers: Age of Ultron  Walt Disney Studios Motion Pictures   \n",
       "40      Captain America: Civil War  Walt Disney Studios Motion Pictures   \n",
       "44  Guardians of the Galaxy Vol. 2  Walt Disney Studios Motion Pictures   \n",
       "48                   Black Panther  Walt Disney Studios Motion Pictures   \n",
       "49          Avengers: Infinity War  Walt Disney Studios Motion Pictures   \n",
       "55               Avengers: Endgame  Walt Disney Studios Motion Pictures   \n",
       "56                    Dark Phoenix                     20th Century Fox   \n",
       "59                     Black Widow  Walt Disney Studios Motion Pictures   \n",
       "62                        Eternals  Walt Disney Studios Motion Pictures   \n",
       "63         Spider-Man: No Way Home                        Sony Pictures   \n",
       "\n",
       "          ReleaseDateUS     Budget  OpeningWeekendNorthAmerica  NorthAmerica  \\\n",
       "9   2004-06-30 00:00:00  200000000                    88156227     373585825   \n",
       "13  2006-05-26 00:00:00  210000000                   102750665     234362462   \n",
       "15  2007-05-04 00:00:00  258000000                   151116516     336530303   \n",
       "21  2010-05-07 00:00:00  200000000                   128122480     312433331   \n",
       "26  2012-05-04 00:00:00  220000000                   207438708     623357910   \n",
       "27  2012-07-03 00:00:00  230000000                    62004688     262030663   \n",
       "28  2013-05-03 00:00:00  200000000                   174144585     409013994   \n",
       "32  2014-05-02 00:00:00  255000000                    91608337     202853933   \n",
       "33  2014-05-23 00:00:00  200000000                    90823660     233921534   \n",
       "36  2015-05-01 00:00:00  250000000                   191271109     459005868   \n",
       "40  2016-05-06 00:00:00  250000000                   179139142     408084349   \n",
       "44  2017-05-05 00:00:00  200000000                   146510104     389813101   \n",
       "48  2018-02-16 00:00:00  200000000                   202003951     700059566   \n",
       "49  2018-04-27 00:00:00  316000000                   257698183     678815482   \n",
       "55  2019-04-26 00:00:00  356000000                   357115007     858373000   \n",
       "56  2019-06-07 00:00:00  200000000                    32828348      65845974   \n",
       "59  2021-07-09 00:00:00  200000000                    80366312     183651665   \n",
       "62  2021-11-05 00:00:00  200000000                    85021497     164870234   \n",
       "63  2021-12-17 00:00:00  200000000                   260138569     780418859   \n",
       "\n",
       "    OtherTerritories   Worldwide  Year     sc_bud     bp_bud     bh_bud  \n",
       "9          415390628   788976453  2004  150000000  200000000  165000000  \n",
       "13         224997093   459359555  2006  150000000  200000000  165000000  \n",
       "15         554341323   890871626  2007  150000000  200000000  165000000  \n",
       "21         311500000   623933331  2010  150000000  200000000  165000000  \n",
       "26         895455078  1518812988  2012  150000000  200000000  165000000  \n",
       "27         495900000   757930663  2012  150000000  200000000  165000000  \n",
       "28         805797258  1214811252  2013  150000000  200000000  165000000  \n",
       "32         506128390   708982323  2014  150000000  200000000  165000000  \n",
       "33         513941241   747862775  2014  150000000  200000000  165000000  \n",
       "36         946397826  1405403694  2015  150000000  200000000  165000000  \n",
       "40         745220146  1153304495  2016  150000000  200000000  165000000  \n",
       "44         473942950   863756051  2017  150000000  200000000  165000000  \n",
       "48         646853595  1346913161  2018  150000000  200000000  165000000  \n",
       "49        1369544272  2048359754  2018  150000000  200000000  165000000  \n",
       "55        1937901401  2797800564  2019  150000000  200000000  165000000  \n",
       "56         186597000   252442974  2019  150000000  200000000  165000000  \n",
       "59         195979696   379631351  2021  150000000  200000000  165000000  \n",
       "62         237194665   402064899  2021  150000000  200000000  165000000  \n",
       "63        1072000000  1852418859  2021  150000000  200000000  165000000  "
      ]
     },
     "execution_count": 18,
     "metadata": {},
     "output_type": "execute_result"
    }
   ],
   "source": [
    "bp_budget_larger"
   ]
  },
  {
   "cell_type": "code",
   "execution_count": 19,
   "id": "0f54c133",
   "metadata": {},
   "outputs": [
    {
     "data": {
      "text/plain": [
       "48    1346913161\n",
       "Name: Worldwide, dtype: int64"
      ]
     },
     "execution_count": 19,
     "metadata": {},
     "output_type": "execute_result"
    }
   ],
   "source": [
    "black_panther[\"Worldwide\"]"
   ]
  },
  {
   "cell_type": "code",
   "execution_count": 20,
   "id": "ca166ddd",
   "metadata": {},
   "outputs": [
    {
     "ename": "NameError",
     "evalue": "name 'bpw' is not defined",
     "output_type": "error",
     "traceback": [
      "\u001b[0;31m---------------------------------------------------------------------------\u001b[0m",
      "\u001b[0;31mNameError\u001b[0m                                 Traceback (most recent call last)",
      "\u001b[0;32m/var/folders/m1/6jr0fxrx2v3dy832gwp52yc00000gn/T/ipykernel_15043/4034220451.py\u001b[0m in \u001b[0;36m<module>\u001b[0;34m\u001b[0m\n\u001b[1;32m      1\u001b[0m \u001b[0;31m#black panther did better than 13/19 movies of budgets the same or more\u001b[0m\u001b[0;34m\u001b[0m\u001b[0;34m\u001b[0m\u001b[0m\n\u001b[0;32m----> 2\u001b[0;31m \u001b[0mprint\u001b[0m\u001b[0;34m(\u001b[0m\u001b[0mbp_budget_larger\u001b[0m\u001b[0;34m.\u001b[0m\u001b[0mshape\u001b[0m\u001b[0;34m[\u001b[0m\u001b[0;36m0\u001b[0m\u001b[0;34m]\u001b[0m \u001b[0;34m-\u001b[0m \u001b[0mbpw\u001b[0m\u001b[0;34m.\u001b[0m\u001b[0mshape\u001b[0m\u001b[0;34m[\u001b[0m\u001b[0;36m0\u001b[0m\u001b[0;34m]\u001b[0m\u001b[0;34m)\u001b[0m\u001b[0;34m\u001b[0m\u001b[0;34m\u001b[0m\u001b[0m\n\u001b[0m\u001b[1;32m      3\u001b[0m \u001b[0mprint\u001b[0m\u001b[0;34m(\u001b[0m\u001b[0mbp_budget_larger\u001b[0m\u001b[0;34m.\u001b[0m\u001b[0mshape\u001b[0m\u001b[0;34m[\u001b[0m\u001b[0;36m0\u001b[0m\u001b[0;34m]\u001b[0m\u001b[0;34m)\u001b[0m\u001b[0;34m\u001b[0m\u001b[0;34m\u001b[0m\u001b[0m\n",
      "\u001b[0;31mNameError\u001b[0m: name 'bpw' is not defined"
     ]
    }
   ],
   "source": [
    "#black panther did better than 13/19 movies of budgets the same or more\n",
    "print(bp_budget_larger.shape[0] - bpw.shape[0])\n",
    "print(bp_budget_larger.shape[0])\n"
   ]
  },
  {
   "cell_type": "code",
   "execution_count": null,
   "id": "5a1e463a",
   "metadata": {},
   "outputs": [],
   "source": [
    "bpw = bp_budget_larger[sc_budget_larger [\"Worldwide\"] >= 1346913161] "
   ]
  },
  {
   "cell_type": "code",
   "execution_count": null,
   "id": "cf937157",
   "metadata": {},
   "outputs": [],
   "source": [
    "bp_budget_larger[sc_budget_larger [\"Worldwide\"] >= 1346913161] "
   ]
  },
  {
   "cell_type": "markdown",
   "id": "dba7866d",
   "metadata": {},
   "source": [
    "All of the movies above have a budget that is $20million and more above Black Panther's budget. All of the other movies are also apart of larger series, while Black Panther was a one off movie.  "
   ]
  },
  {
   "cell_type": "code",
   "execution_count": null,
   "id": "aa6af703",
   "metadata": {},
   "outputs": [],
   "source": [
    "#big hero 6\n",
    "big_hero = data[data[\"Title\"] == \"Big Hero 6\"]"
   ]
  },
  {
   "cell_type": "code",
   "execution_count": null,
   "id": "0f22692c",
   "metadata": {},
   "outputs": [],
   "source": [
    "big_hero[\"Budget\"]"
   ]
  },
  {
   "cell_type": "code",
   "execution_count": null,
   "id": "39b8d0bb",
   "metadata": {},
   "outputs": [],
   "source": [
    "bh_budget_larger = data[data[\"Budget\"] >=  165000000]"
   ]
  },
  {
   "cell_type": "code",
   "execution_count": null,
   "id": "bff76174",
   "metadata": {},
   "outputs": [],
   "source": [
    "big_hero[\"Worldwide\"]"
   ]
  },
  {
   "cell_type": "code",
   "execution_count": null,
   "id": "8dda2354",
   "metadata": {},
   "outputs": [],
   "source": [
    "bh_budget_larger[sc_budget_larger [\"Worldwide\"] >= 657827828] "
   ]
  }
 ],
 "metadata": {
  "kernelspec": {
   "display_name": "Python 3 (ipykernel)",
   "language": "python",
   "name": "python3"
  },
  "language_info": {
   "codemirror_mode": {
    "name": "ipython",
    "version": 3
   },
   "file_extension": ".py",
   "mimetype": "text/x-python",
   "name": "python",
   "nbconvert_exporter": "python",
   "pygments_lexer": "ipython3",
   "version": "3.9.7"
  }
 },
 "nbformat": 4,
 "nbformat_minor": 5
}
